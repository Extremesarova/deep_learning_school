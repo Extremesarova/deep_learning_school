{
 "cells": [
  {
   "cell_type": "markdown",
   "metadata": {
    "id": "Ot3c4fjZwC4T"
   },
   "source": [
    "<img src=\"https://s8.hostingkartinok.com/uploads/images/2018/08/308b49fcfbc619d629fe4604bceb67ac.jpg\" width=500, height=450>\n",
    "<h3 style=\"text-align: center;\"><b>Физтех-Школа Прикладной математики и информатики (ФПМИ) МФТИ</b></h3>"
   ]
  },
  {
   "cell_type": "markdown",
   "metadata": {
    "id": "P2JdzEXmwRU5"
   },
   "source": [
    "---"
   ]
  },
  {
   "cell_type": "markdown",
   "metadata": {
    "id": "Fc8iHXIVwDwj"
   },
   "source": [
    "***Some parts of the notebook are almost the copy of [ mmta-team course](https://github.com/mmta-team/mmta_fall_2020). Special thanks to mmta-team for making them publicly available. [Original notebook](https://github.com/mmta-team/mmta_fall_2020/blob/master/tasks/01_word_embeddings/task_word_embeddings.ipynb).***"
   ]
  },
  {
   "cell_type": "markdown",
   "metadata": {
    "id": "7D0wm5jt6j0U"
   },
   "source": [
    "<b> Прочитайте семинар, пожалуйста, для успешного выполнения домашнего задания. В конце ноутка напишите свой вывод. Работа без вывода оценивается ниже."
   ]
  },
  {
   "cell_type": "code",
   "execution_count": 54,
   "metadata": {},
   "outputs": [],
   "source": [
    "from functools import lru_cache\n",
    "\n",
    "import pandas as pd"
   ]
  },
  {
   "cell_type": "markdown",
   "metadata": {
    "id": "BIWqBuEa6j0b"
   },
   "source": [
    "## Задача поиска схожих по смыслу предложений"
   ]
  },
  {
   "cell_type": "markdown",
   "metadata": {
    "id": "NUkwMPLA6j0g"
   },
   "source": [
    "Мы будем ранжировать вопросы [StackOverflow](https://stackoverflow.com) на основе семантического векторного представления "
   ]
  },
  {
   "cell_type": "markdown",
   "metadata": {
    "id": "dNRXIEfu5a3Q"
   },
   "source": [
    "До этого в курсе не было речи про задачу ранжировния, поэтому введем математическую формулировку"
   ]
  },
  {
   "cell_type": "markdown",
   "metadata": {
    "id": "uS9FwWNd5a3S"
   },
   "source": [
    "## Задача ранжирования(Learning to Rank)"
   ]
  },
  {
   "cell_type": "markdown",
   "metadata": {
    "id": "wdwY9-f75a3T"
   },
   "source": [
    "* $X$ - множество объектов\n",
    "* $X^l = \\{x_1, x_2, ..., x_l\\}$ - обучающая выборка\n",
    "<br>На обучающей выборке задан порядок между некоторыми элементами, то есть нам известно, что некий объект выборки более релевантный для нас, чем другой:\n",
    "* $i \\prec j$ - порядок пары индексов объектов на выборке $X^l$ c индексами $i$ и $j$\n",
    "### Задача:\n",
    "построить ранжирующую функцию $a$ : $X \\rightarrow R$ такую, что\n",
    "$$i \\prec j \\Rightarrow a(x_i) < a(x_j)$$"
   ]
  },
  {
   "cell_type": "markdown",
   "metadata": {
    "id": "WG2IGBsh5a3U"
   },
   "source": [
    "<img src=\"https://d25skit2l41vkl.cloudfront.net/wp-content/uploads/2016/12/Featured-Image.jpg\" width=500, height=450>"
   ]
  },
  {
   "cell_type": "markdown",
   "metadata": {
    "id": "MQk_rolFwT_h"
   },
   "source": [
    "### Embeddings"
   ]
  },
  {
   "cell_type": "markdown",
   "metadata": {
    "id": "xUe1PGXn6j0l"
   },
   "source": [
    "Будем использовать предобученные векторные представления слов на постах Stack Overflow.<br>\n",
    "[A word2vec model trained on Stack Overflow posts](https://github.com/vefstathiou/SO_word2vec)"
   ]
  },
  {
   "cell_type": "code",
   "execution_count": 55,
   "metadata": {
    "id": "mYkI54Y-rk7a"
   },
   "outputs": [],
   "source": [
    "# !wget https://zenodo.org/record/1199620/files/SO_vectors_200.bin?download=1"
   ]
  },
  {
   "cell_type": "code",
   "execution_count": 56,
   "metadata": {
    "id": "O8YJTOYv6j0s"
   },
   "outputs": [],
   "source": [
    "from gensim.models.keyedvectors import KeyedVectors\n",
    "\n",
    "wv_embeddings = KeyedVectors.load_word2vec_format(\n",
    "    fname=\"SO_vectors_200.bin\", binary=True\n",
    ")"
   ]
  },
  {
   "cell_type": "markdown",
   "metadata": {
    "id": "aIcT_g-C6j1E"
   },
   "source": [
    "#### Как пользоваться этими векторами?"
   ]
  },
  {
   "cell_type": "markdown",
   "metadata": {
    "id": "DWO5SPDY6j1G"
   },
   "source": [
    "Посмотрим на примере одного слова, что из себя представляет embedding"
   ]
  },
  {
   "cell_type": "code",
   "execution_count": 57,
   "metadata": {
    "id": "KeSBlQfk6j1J",
    "scrolled": true
   },
   "outputs": [
    {
     "name": "stdout",
     "output_type": "stream",
     "text": [
      "float32 (200,)\n"
     ]
    }
   ],
   "source": [
    "word = \"dog\"\n",
    "if word in wv_embeddings:\n",
    "    print(wv_embeddings[word].dtype, wv_embeddings[word].shape)"
   ]
  },
  {
   "cell_type": "code",
   "execution_count": 58,
   "metadata": {
    "id": "T4Eq-D1qxpMJ"
   },
   "outputs": [
    {
     "name": "stdout",
     "output_type": "stream",
     "text": [
      "Num of words: 1787145\n"
     ]
    }
   ],
   "source": [
    "print(f\"Num of words: {len(wv_embeddings.index_to_key)}\")"
   ]
  },
  {
   "cell_type": "markdown",
   "metadata": {
    "id": "ZT6NTCys6j1Q"
   },
   "source": [
    "Найдем наиболее близкие слова к слову `dog`:"
   ]
  },
  {
   "cell_type": "markdown",
   "metadata": {
    "id": "n08z2PjMwC5o"
   },
   "source": [
    "#### Вопрос 1:\n",
    "* Входит ли слово `cat` топ-5 близких слов к слову `dog`? Какое место? "
   ]
  },
  {
   "cell_type": "code",
   "execution_count": 59,
   "metadata": {
    "id": "nYwVz0xG6j1U",
    "scrolled": true
   },
   "outputs": [
    {
     "name": "stdout",
     "output_type": "stream",
     "text": [
      "{'animal': 0.8564180135726929, 'dogs': 0.7880866527557373, 'mammal': 0.7623804211616516, 'cats': 0.7621253728866577, 'animals': 0.760793924331665, 'feline': 0.7392398715019226, 'bird': 0.7315488457679749, 'animal1': 0.7219215631484985, 'doggy': 0.7213349342346191, 'labrador': 0.7209131717681885}\n",
      "Is 'cat' in the top-5 most similar words to 'dog': False.\n",
      "Is 'cats' in the top-5 most similar words to 'dog': True, 3rd place.\n"
     ]
    }
   ],
   "source": [
    "# method most_simmilar\n",
    "dog_similar_dict = dict(wv_embeddings.most_similar(word))\n",
    "similar_words = list(dog_similar_dict.keys())\n",
    "print(dog_similar_dict)\n",
    "print(\n",
    "    f\"Is 'cat' in the top-5 most similar words to 'dog': {'cat' in similar_words[:5]}.\"\n",
    ")\n",
    "print(\n",
    "    f\"Is 'cats' in the top-5 most similar words to 'dog': {'cats' in similar_words[:5]}, {similar_words.index('cats')}rd place.\"\n",
    ")"
   ]
  },
  {
   "cell_type": "markdown",
   "metadata": {},
   "source": [
    "Не входит. Слово cats входит и стоит на 3 месте."
   ]
  },
  {
   "cell_type": "markdown",
   "metadata": {
    "id": "ai48-5vv6j1d"
   },
   "source": [
    "### Векторные представления текста\n",
    "\n",
    "Перейдем от векторных представлений отдельных слов к векторным представлениям вопросов, как к **среднему** векторов всех слов в вопросе. Если для какого-то слова нет предобученного вектора, то его нужно пропустить. Если вопрос не содержит ни одного известного слова, то нужно вернуть нулевой вектор."
   ]
  },
  {
   "cell_type": "markdown",
   "metadata": {},
   "source": [
    "#### Выбор токенизатора"
   ]
  },
  {
   "cell_type": "code",
   "execution_count": 60,
   "metadata": {},
   "outputs": [],
   "source": [
    "text = \"I'm a good man, with six dogs and eight cats\""
   ]
  },
  {
   "cell_type": "markdown",
   "metadata": {},
   "source": [
    "##### Regex"
   ]
  },
  {
   "cell_type": "code",
   "execution_count": 61,
   "metadata": {
    "id": "EhNuxBJd6j1f",
    "tags": []
   },
   "outputs": [],
   "source": [
    "import re\n",
    "\n",
    "import numpy as np\n",
    "\n",
    "\n",
    "# you can use your tokenizer\n",
    "# for example, from nltk.tokenize import WordPunctTokenizer\n",
    "class MyTokenizer:\n",
    "    def __init__(self):\n",
    "        pass\n",
    "\n",
    "    def tokenize(self, text):\n",
    "        return re.findall(\"\\w+\", text)\n",
    "\n",
    "\n",
    "regex_tokenizer = MyTokenizer()"
   ]
  },
  {
   "cell_type": "code",
   "execution_count": 62,
   "metadata": {},
   "outputs": [
    {
     "data": {
      "text/plain": [
       "['I', 'm', 'a', 'good', 'man', 'with', 'six', 'dogs', 'and', 'eight', 'cats']"
      ]
     },
     "execution_count": 62,
     "metadata": {},
     "output_type": "execute_result"
    }
   ],
   "source": [
    "regex_tokenizer.tokenize(text)"
   ]
  },
  {
   "cell_type": "markdown",
   "metadata": {},
   "source": [
    "##### word_tokenize"
   ]
  },
  {
   "cell_type": "code",
   "execution_count": 63,
   "metadata": {},
   "outputs": [],
   "source": [
    "# import nltk\n",
    "# nltk.download('punkt')"
   ]
  },
  {
   "cell_type": "code",
   "execution_count": 64,
   "metadata": {},
   "outputs": [],
   "source": [
    "from nltk.tokenize import word_tokenize"
   ]
  },
  {
   "cell_type": "code",
   "execution_count": 65,
   "metadata": {},
   "outputs": [
    {
     "data": {
      "text/plain": [
       "['I',\n",
       " \"'m\",\n",
       " 'a',\n",
       " 'good',\n",
       " 'man',\n",
       " ',',\n",
       " 'with',\n",
       " 'six',\n",
       " 'dogs',\n",
       " 'and',\n",
       " 'eight',\n",
       " 'cats']"
      ]
     },
     "execution_count": 65,
     "metadata": {},
     "output_type": "execute_result"
    }
   ],
   "source": [
    "word_tokenize(text)"
   ]
  },
  {
   "cell_type": "markdown",
   "metadata": {},
   "source": [
    "##### TweetTokenizer"
   ]
  },
  {
   "cell_type": "code",
   "execution_count": 66,
   "metadata": {},
   "outputs": [],
   "source": [
    "from nltk.tokenize import TweetTokenizer\n",
    "\n",
    "tweet_tokenizer = TweetTokenizer()"
   ]
  },
  {
   "cell_type": "code",
   "execution_count": 67,
   "metadata": {},
   "outputs": [
    {
     "data": {
      "text/plain": [
       "[\"I'm\", 'a', 'good', 'man', ',', 'with', 'six', 'dogs', 'and', 'eight', 'cats']"
      ]
     },
     "execution_count": 67,
     "metadata": {},
     "output_type": "execute_result"
    }
   ],
   "source": [
    "tweet_tokenizer.tokenize(text)"
   ]
  },
  {
   "cell_type": "markdown",
   "metadata": {},
   "source": [
    "##### TextBlob"
   ]
  },
  {
   "cell_type": "code",
   "execution_count": 68,
   "metadata": {},
   "outputs": [],
   "source": [
    "# !pip install -U textblob\n",
    "# !python3 -m textblob.download_corpora"
   ]
  },
  {
   "cell_type": "code",
   "execution_count": 69,
   "metadata": {},
   "outputs": [
    {
     "data": {
      "text/plain": [
       "WordList(['I', \"'m\", 'a', 'good', 'man', 'with', 'six', 'dogs', 'and', 'eight', 'cats'])"
      ]
     },
     "execution_count": 69,
     "metadata": {},
     "output_type": "execute_result"
    }
   ],
   "source": [
    "from textblob import TextBlob\n",
    "\n",
    "blob = TextBlob(text)\n",
    "blob.words"
   ]
  },
  {
   "cell_type": "markdown",
   "metadata": {},
   "source": [
    "We could notice that the TextBlob tokenizer removes the punctuation.  \n",
    "In addition, it doesn't have  rules for English contractions."
   ]
  },
  {
   "cell_type": "markdown",
   "metadata": {},
   "source": [
    "##### Spacy"
   ]
  },
  {
   "cell_type": "code",
   "execution_count": 70,
   "metadata": {},
   "outputs": [],
   "source": [
    "# !pip install spacy\n",
    "# !python3 -m spacy download en_core_web_sm"
   ]
  },
  {
   "cell_type": "code",
   "execution_count": 71,
   "metadata": {},
   "outputs": [],
   "source": [
    "from spacy.lang.en import English\n",
    "from spacy.tokenizer import Tokenizer\n",
    "\n",
    "class SpacyTokenizer:\n",
    "    def __init__(self):\n",
    "        nlp = English()\n",
    "        self.tokenizer = nlp.tokenizer\n",
    "\n",
    "    def tokenize(self, text):\n",
    "        return [str(token) for token in self.tokenizer(text)]"
   ]
  },
  {
   "cell_type": "code",
   "execution_count": 72,
   "metadata": {},
   "outputs": [
    {
     "data": {
      "text/plain": [
       "['I',\n",
       " \"'m\",\n",
       " 'a',\n",
       " 'good',\n",
       " 'man',\n",
       " ',',\n",
       " 'with',\n",
       " 'six',\n",
       " 'dogs',\n",
       " 'and',\n",
       " 'eight',\n",
       " 'cats']"
      ]
     },
     "execution_count": 72,
     "metadata": {},
     "output_type": "execute_result"
    }
   ],
   "source": [
    "spacy_tokenizer = SpacyTokenizer()\n",
    "spacy_tokenizer.tokenize(text)"
   ]
  },
  {
   "cell_type": "markdown",
   "metadata": {},
   "source": [
    "Выберем пока что TweetTokenizer"
   ]
  },
  {
   "cell_type": "code",
   "execution_count": 73,
   "metadata": {},
   "outputs": [],
   "source": [
    "tokenizer = TweetTokenizer()"
   ]
  },
  {
   "cell_type": "code",
   "execution_count": 74,
   "metadata": {
    "id": "YHcvu6186j1m"
   },
   "outputs": [],
   "source": [
    "def question_to_vec(question, embeddings, tokenizer, dim=200, pretrained=True):\n",
    "    \"\"\"\n",
    "    question: строка\n",
    "    embeddings: наше векторное представление\n",
    "    dim: размер любого вектора в нашем представлении\n",
    "\n",
    "    return: векторное представление для вопроса\n",
    "    \"\"\"\n",
    "    if not pretrained:\n",
    "        embeddings = embeddings.wv\n",
    "\n",
    "    vector = np.zeros((dim,))\n",
    "    vectors = []\n",
    "    for word in tokenizer.tokenize(question):\n",
    "        if word in embeddings.key_to_index:\n",
    "            vectors.append(embeddings[word])\n",
    "        else:\n",
    "            continue\n",
    "\n",
    "    if vectors:\n",
    "        vector = np.mean(vectors, axis=0)\n",
    "\n",
    "    return vector"
   ]
  },
  {
   "cell_type": "markdown",
   "metadata": {
    "id": "u5Q_4j7r6j1u"
   },
   "source": [
    "Теперь у нас есть метод для создания векторного представления любого предложения."
   ]
  },
  {
   "cell_type": "markdown",
   "metadata": {
    "id": "EsJSNkhm6j1y"
   },
   "source": [
    "#### Вопрос 2:\n",
    "* Какая третья(с индексом 2) компонента вектора предложения `I love neural networks` (округлите до 2 знаков после запятой)?"
   ]
  },
  {
   "cell_type": "code",
   "execution_count": 75,
   "metadata": {
    "id": "a62r11cT6j10",
    "scrolled": true
   },
   "outputs": [
    {
     "data": {
      "text/plain": [
       "-1.29"
      ]
     },
     "execution_count": 75,
     "metadata": {},
     "output_type": "execute_result"
    }
   ],
   "source": [
    "v = question_to_vec(\"I love neural networks\", wv_embeddings, tokenizer)\n",
    "v[2].round(2)"
   ]
  },
  {
   "cell_type": "markdown",
   "metadata": {
    "id": "Y60z4t6W6j16"
   },
   "source": [
    "### Оценка близости текстов\n",
    "\n",
    "Представим, что мы используем идеальные векторные представления слов. Тогда косинусное расстояние между дублирующими предложениями должно быть меньше, чем между случайно взятыми предложениями. \n",
    "\n",
    "Сгенерируем для каждого из $N$ вопросов $R$ случайных отрицательных примеров и примешаем к ним также настоящие дубликаты. Для каждого вопроса будем ранжировать с помощью нашей модели $R + 1$ примеров и смотреть на позицию дубликата. Мы хотим, чтобы дубликат был первым в ранжированном списке.\n",
    "\n",
    "#### Hits@K\n",
    "Первой простой метрикой будет количество корректных попаданий для какого-то $K$:\n",
    "$$ \\text{Hits@K} = \\frac{1}{N}\\sum_{i=1}^N \\, [rank\\_q_i^{'} \\le K],$$\n",
    "* $\\begin{equation*}\n",
    "[x < 0 ] \\equiv \n",
    " \\begin{cases}\n",
    "   1, &x < 0\\\\\n",
    "   0, &x \\geq 0\n",
    " \\end{cases}\n",
    "\\end{equation*}$ - индикаторная функция\n",
    "* $q_i$ - $i$-ый вопрос\n",
    "* $q_i^{'}$ - его дубликат\n",
    "* $rank\\_q_i^{'}$ - позиция дубликата в ранжированном списке ближайших предложений для вопроса $q_i$.\n",
    "\n",
    "#### DCG@K\n",
    "Второй метрикой будет упрощенная DCG метрика, учитывающая порядок элементов в списке путем домножения релевантности элемента на вес равный обратному логарифму номера позиции:\n",
    "$$ \\text{DCG@K} = \\frac{1}{N} \\sum_{i=1}^N\\frac{1}{\\log_2(1+rank\\_q_i^{'})}\\cdot[rank\\_q_i^{'} \\le K],$$\n",
    "С такой метрикой модель штрафуется за большой ранк корректного ответа"
   ]
  },
  {
   "cell_type": "markdown",
   "metadata": {
    "id": "eHCnH-jw6j18"
   },
   "source": [
    "#### Вопрос 3:\n",
    "* Максимум `Hits@47 - DCG@1`?"
   ]
  },
  {
   "cell_type": "markdown",
   "metadata": {},
   "source": [
    "Максимум этого выражения 1, если $\\text{Hits}@47$ равен $1$ и $\\text{DCG}@1$ равен $0$."
   ]
  },
  {
   "cell_type": "markdown",
   "metadata": {
    "id": "_tFemBkP6j1-"
   },
   "source": [
    "<img src='https://hsto.org/files/1c5/edf/dee/1c5edfdeebce4b71a86bdf986d9f88f2.jpg' width=400, height=200>"
   ]
  },
  {
   "cell_type": "markdown",
   "metadata": {
    "id": "0sUSxk866j1_"
   },
   "source": [
    "#### Пример оценок\n",
    "\n",
    "Вычислим описанные выше метрики для игрушечного примера. \n",
    "Пусть\n",
    "* $N = 1$, $R = 3$\n",
    "* <font color='green'>\"Что такое python?\"</font> - вопрос $q_1$\n",
    "* <font color='red'>\"Что такое язык python?\"</font> - его дубликат $q_i^{'}$\n",
    "\n",
    "Пусть модель выдала следующий ранжированный список кандидатов:\n",
    "\n",
    "1. \"Как изучить с++?\"\n",
    "2. <font color='red'>\"Что такое язык python?\"</font>\n",
    "3. \"Хочу учить Java\"\n",
    "4. \"Не понимаю Tensorflow\"\n",
    "\n",
    "$\\Rightarrow rank\\_q_i^{'} = 2$\n",
    "\n",
    "Вычислим метрику *Hits@K* для *K = 1, 4*:\n",
    "\n",
    "- [K = 1] $\\text{Hits@1} =  [rank\\_q_i^{'} \\le 1)] = 0$\n",
    "- [K = 4] $\\text{Hits@4} =  [rank\\_q_i^{'} \\le 4] = 1$\n",
    "\n",
    "Вычислим метрику *DCG@K* для *K = 1, 4*:\n",
    "- [K = 1] $\\text{DCG@1} = \\frac{1}{\\log_2(1+2)}\\cdot[2 \\le 1] = 0$\n",
    "- [K = 4] $\\text{DCG@4} = \\frac{1}{\\log_2(1+2)}\\cdot[2 \\le 4] = \\frac{1}{\\log_2{3}}$"
   ]
  },
  {
   "cell_type": "markdown",
   "metadata": {
    "id": "B4L6HJJC6j2B"
   },
   "source": [
    "#### Вопрос 4:\n",
    "* Вычислите `DCG@10`, если $rank\\_q_i^{'} = 9$(округлите до одного знака после запятой)"
   ]
  },
  {
   "cell_type": "markdown",
   "metadata": {},
   "source": [
    "$DCG@10 = \\frac {1}{log_2(1+9)}\\cdot[9 \\leq 10] = \\frac {1}{log_2(10)} = 0.3$"
   ]
  },
  {
   "cell_type": "code",
   "execution_count": 76,
   "metadata": {},
   "outputs": [
    {
     "data": {
      "text/plain": [
       "0.3"
      ]
     },
     "execution_count": 76,
     "metadata": {},
     "output_type": "execute_result"
    }
   ],
   "source": [
    "(1 / np.log2(10)).round(1)"
   ]
  },
  {
   "cell_type": "markdown",
   "metadata": {
    "id": "J5xWOORI6j2F"
   },
   "source": [
    "### HITS\\_COUNT и DCG\\_SCORE"
   ]
  },
  {
   "cell_type": "markdown",
   "metadata": {
    "id": "I1q9WQOx6j2H"
   },
   "source": [
    "Каждая функция имеет два аргумента: $dup\\_ranks$ и $k$. $dup\\_ranks$ является списком, который содержит рейтинги дубликатов(их позиции в ранжированном списке). Например, $dup\\_ranks = [2]$ для примера, описанного выше."
   ]
  },
  {
   "cell_type": "code",
   "execution_count": 77,
   "metadata": {
    "id": "F5VwySUB6j2J"
   },
   "outputs": [],
   "source": [
    "def hits_count(dup_ranks, k):\n",
    "    \"\"\"\n",
    "    dup_ranks: list индексов дубликатов\n",
    "    result: вернуть  Hits@k\n",
    "    \"\"\"\n",
    "    hits = [1 if rank <= k else 0 for rank in dup_ranks]\n",
    "\n",
    "    return np.mean(hits)"
   ]
  },
  {
   "cell_type": "code",
   "execution_count": 78,
   "metadata": {
    "id": "82hQaxCH6j2R"
   },
   "outputs": [],
   "source": [
    "def dcg_score(dup_ranks, k):\n",
    "    \"\"\"\n",
    "    dup_ranks: list индексов дубликатов\n",
    "    result: вернуть DCG@k\n",
    "    \"\"\"\n",
    "    dcgs = [1 / np.log2(1 + rank) if rank <= k else 0 for rank in dup_ranks]\n",
    "\n",
    "    return np.mean(dcgs)"
   ]
  },
  {
   "cell_type": "markdown",
   "metadata": {
    "id": "PcwHeXN26j2Y"
   },
   "source": [
    "Протестируем функции. Пусть $N = 1$, то есть один эксперимент. Будем искать копию вопроса и оценивать метрики."
   ]
  },
  {
   "cell_type": "code",
   "execution_count": 79,
   "metadata": {
    "id": "gLa_Wqfh6j2m"
   },
   "outputs": [
    {
     "name": "stdout",
     "output_type": "stream",
     "text": [
      "Ваш ответ HIT: [0.0, 1.0, 1.0, 1.0]\n",
      "Ваш ответ DCG: [0.0, 0.63093, 0.63093, 0.63093]\n"
     ]
    }
   ],
   "source": [
    "copy_answers = [\n",
    "    \"How does the catch keyword determine the type of exception that was thrown\",\n",
    "]\n",
    "\n",
    "# наши кандидаты\n",
    "candidates_ranking = [\n",
    "    [\n",
    "        \"How Can I Make These Links Rotate in PHP\",\n",
    "        \"How does the catch keyword determine the type of exception that was thrown\",\n",
    "        \"NSLog array description not memory address\",\n",
    "        \"PECL_HTTP not recognised php ubuntu\",\n",
    "    ],\n",
    "]\n",
    "# dup_ranks — позиции наших копий, так как эксперимент один, то этот массив длины 1\n",
    "dup_ranks = [2]\n",
    "\n",
    "# вычисляем метрику для разных k\n",
    "print(\"Ваш ответ HIT:\", [hits_count(dup_ranks, k) for k in range(1, 5)])\n",
    "print(\"Ваш ответ DCG:\", [round(dcg_score(dup_ranks, k), 5) for k in range(1, 5)])"
   ]
  },
  {
   "cell_type": "markdown",
   "metadata": {
    "id": "MoHC3YoQ6j2t"
   },
   "source": [
    "У вас должно получиться"
   ]
  },
  {
   "cell_type": "code",
   "execution_count": 80,
   "metadata": {
    "id": "B0NFWq4f6j2u",
    "scrolled": true
   },
   "outputs": [
    {
     "data": {
      "text/html": [
       "<div>\n",
       "<style scoped>\n",
       "    .dataframe tbody tr th:only-of-type {\n",
       "        vertical-align: middle;\n",
       "    }\n",
       "\n",
       "    .dataframe tbody tr th {\n",
       "        vertical-align: top;\n",
       "    }\n",
       "\n",
       "    .dataframe thead th {\n",
       "        text-align: right;\n",
       "    }\n",
       "</style>\n",
       "<table border=\"1\" class=\"dataframe\">\n",
       "  <thead>\n",
       "    <tr style=\"text-align: right;\">\n",
       "      <th></th>\n",
       "      <th>1</th>\n",
       "      <th>2</th>\n",
       "      <th>3</th>\n",
       "      <th>4</th>\n",
       "    </tr>\n",
       "  </thead>\n",
       "  <tbody>\n",
       "    <tr>\n",
       "      <th>HITS</th>\n",
       "      <td>0</td>\n",
       "      <td>1.00000</td>\n",
       "      <td>1.00000</td>\n",
       "      <td>1.00000</td>\n",
       "    </tr>\n",
       "    <tr>\n",
       "      <th>DCG</th>\n",
       "      <td>0</td>\n",
       "      <td>0.63093</td>\n",
       "      <td>0.63093</td>\n",
       "      <td>0.63093</td>\n",
       "    </tr>\n",
       "  </tbody>\n",
       "</table>\n",
       "</div>"
      ],
      "text/plain": [
       "      1        2        3        4\n",
       "HITS  0  1.00000  1.00000  1.00000\n",
       "DCG   0  0.63093  0.63093  0.63093"
      ]
     },
     "execution_count": 80,
     "metadata": {},
     "output_type": "execute_result"
    }
   ],
   "source": [
    "# correct_answers - метрика для разных k\n",
    "correct_answers = pd.DataFrame(\n",
    "    [[0, 1, 1, 1], [0, 1 / (np.log2(3)), 1 / (np.log2(3)), 1 / (np.log2(3))]],\n",
    "    index=[\"HITS\", \"DCG\"],\n",
    "    columns=range(1, 5),\n",
    ")\n",
    "correct_answers"
   ]
  },
  {
   "cell_type": "markdown",
   "metadata": {
    "id": "tHZqgDTo6j0i"
   },
   "source": [
    "### Данные\n",
    "[arxiv link](https://drive.google.com/file/d/1QqT4D0EoqJTy7v9VrNCYD-m964XZFR7_/edit)\n",
    "\n",
    "`train.tsv` - выборка для обучения.<br> В каждой строке через табуляцию записаны: **<вопрос>, <похожий вопрос>**\n",
    "\n",
    "`validation.tsv` - тестовая выборка.<br> В каждой строке через табуляцию записаны: **<вопрос>, <похожий вопрос>, <отрицательный пример 1>, <отрицательный пример 2>, ...**"
   ]
  },
  {
   "cell_type": "code",
   "execution_count": 81,
   "metadata": {
    "colab": {
     "base_uri": "https://localhost:8080/"
    },
    "executionInfo": {
     "elapsed": 28,
     "status": "ok",
     "timestamp": 1628256058346,
     "user": {
      "displayName": "Deep Learning School",
      "photoUrl": "https://lh3.googleusercontent.com/a-/AOh14GhNf0RkP5WvkU5MixKfC1Sv3mb-9QWgAbC6VcfQvA=s64",
      "userId": "16549096980415837553"
     },
     "user_tz": -180
    },
    "id": "jKVK2lDGvrIe",
    "outputId": "51944c9b-d6e8-41af-bec4-bb35fba5d51b"
   },
   "outputs": [],
   "source": [
    "# !unzip stackoverflow_similar_questions.zip"
   ]
  },
  {
   "cell_type": "code",
   "execution_count": 82,
   "metadata": {},
   "outputs": [],
   "source": [
    "import re"
   ]
  },
  {
   "cell_type": "markdown",
   "metadata": {
    "id": "hil2UsUG6j22"
   },
   "source": [
    "Считайте данные."
   ]
  },
  {
   "cell_type": "code",
   "execution_count": 83,
   "metadata": {
    "id": "B4EBho8s6j26"
   },
   "outputs": [],
   "source": [
    "def read_corpus(filename):\n",
    "    data = []\n",
    "    for line in open(filename, encoding=\"utf-8\"):\n",
    "        data.append(re.split(r\"\\t+\", line.rstrip(\"\\t\").rstrip(\"\\n\")))\n",
    "    return data"
   ]
  },
  {
   "cell_type": "markdown",
   "metadata": {
    "id": "kkTxY3Mk9_nG"
   },
   "source": [
    "Нам понадобиться только файл validation."
   ]
  },
  {
   "cell_type": "code",
   "execution_count": 84,
   "metadata": {
    "colab": {
     "base_uri": "https://localhost:8080/",
     "height": 274
    },
    "executionInfo": {
     "elapsed": 21,
     "status": "error",
     "timestamp": 1628256058355,
     "user": {
      "displayName": "Deep Learning School",
      "photoUrl": "https://lh3.googleusercontent.com/a-/AOh14GhNf0RkP5WvkU5MixKfC1Sv3mb-9QWgAbC6VcfQvA=s64",
      "userId": "16549096980415837553"
     },
     "user_tz": -180
    },
    "id": "PTVB9Tnp6j29",
    "outputId": "9c55c802-3d82-471d-eab2-195dabf5026c"
   },
   "outputs": [],
   "source": [
    "validation_data = read_corpus(\"./stackoverflow_similar_questions/data/validation.tsv\")"
   ]
  },
  {
   "cell_type": "markdown",
   "metadata": {
    "id": "bTHfL-9y6j3F"
   },
   "source": [
    "Кол-во строк"
   ]
  },
  {
   "cell_type": "code",
   "execution_count": 85,
   "metadata": {
    "id": "z6ubXhIe6j3H"
   },
   "outputs": [
    {
     "data": {
      "text/plain": [
       "3760"
      ]
     },
     "execution_count": 85,
     "metadata": {},
     "output_type": "execute_result"
    }
   ],
   "source": [
    "len(validation_data)"
   ]
  },
  {
   "cell_type": "markdown",
   "metadata": {
    "id": "kaOQblBy6j3M"
   },
   "source": [
    "Размер нескольких первых строк"
   ]
  },
  {
   "cell_type": "code",
   "execution_count": 86,
   "metadata": {
    "id": "yRx6e-Pe6j3M"
   },
   "outputs": [
    {
     "name": "stdout",
     "output_type": "stream",
     "text": [
      "1 1001\n",
      "2 1001\n",
      "3 1001\n",
      "4 1001\n",
      "5 1001\n"
     ]
    }
   ],
   "source": [
    "for i in range(5):\n",
    "    print(i + 1, len(validation_data[i]))"
   ]
  },
  {
   "cell_type": "markdown",
   "metadata": {
    "id": "ySQQp0oQt1Ep"
   },
   "source": [
    "### Ранжирование без обучения"
   ]
  },
  {
   "cell_type": "markdown",
   "metadata": {
    "id": "iElEDhj-6j3R"
   },
   "source": [
    "Реализуйте функцию ранжирования кандидатов на основе косинусного расстояния. Функция должна по списку кандидатов вернуть отсортированный список пар (позиция в исходном списке кандидатов, кандидат). При этом позиция кандидата в полученном списке является его рейтингом (первый - лучший). Например, если исходный список кандидатов был [a, b, c], и самый похожий на исходный вопрос среди них - c, затем a, и в конце b, то функция должна вернуть список **[(2, c), (0, a), (1, b)]**."
   ]
  },
  {
   "cell_type": "code",
   "execution_count": 87,
   "metadata": {
    "id": "K02JARKr6j3T"
   },
   "outputs": [],
   "source": [
    "from copy import deepcopy\n",
    "\n",
    "from sklearn.metrics.pairwise import cosine_similarity"
   ]
  },
  {
   "cell_type": "code",
   "execution_count": 88,
   "metadata": {
    "id": "1yP8wJWj6j3X"
   },
   "outputs": [],
   "source": [
    "def rank_candidates(\n",
    "    question, candidates, embeddings, tokenizer, dim=200, pretrained=True\n",
    "):\n",
    "    \"\"\"\n",
    "    question: строка\n",
    "    candidates: массив строк(кандидатов) [a, b, c]\n",
    "    result: пары (начальная позиция, кандидат) [(2, c), (0, a), (1, b)]\n",
    "    \"\"\"\n",
    "\n",
    "    if not pretrained:\n",
    "        embeddings = embeddings.wv\n",
    "\n",
    "    question_emb = np.array(\n",
    "        question_to_vec(question, embeddings, tokenizer, dim)\n",
    "    ).reshape(1, -1)\n",
    "\n",
    "    total_resuls = []\n",
    "\n",
    "    for i, canditate in enumerate(candidates):\n",
    "        candidate_emb = np.array(\n",
    "            question_to_vec(canditate, embeddings, tokenizer, dim)\n",
    "        ).reshape(1, -1)\n",
    "\n",
    "        total_resuls.append(\n",
    "            (\n",
    "                i,\n",
    "                canditate,\n",
    "                cosine_similarity(question_emb, candidate_emb)[0][0],\n",
    "            )\n",
    "        )\n",
    "    total_resuls_sorted = sorted(total_resuls, key=lambda item: item[2], reverse=True)\n",
    "\n",
    "    result = [(tuple_[0], tuple_[1]) for tuple_ in total_resuls_sorted]\n",
    "\n",
    "    return result"
   ]
  },
  {
   "cell_type": "markdown",
   "metadata": {
    "id": "TnBszTb76j3c"
   },
   "source": [
    "Протестируйте работу функции на примерах ниже. Пусть $N=2$, то есть два эксперимента"
   ]
  },
  {
   "cell_type": "code",
   "execution_count": 89,
   "metadata": {
    "id": "xvQgtP176j3h"
   },
   "outputs": [],
   "source": [
    "questions = [\"converting string to list\", \"Sending array via Ajax fails\"]\n",
    "\n",
    "candidates = [\n",
    "    [\n",
    "        \"Convert Google results object (pure js) to Python object\",  # первый эксперимент\n",
    "        \"C# create cookie from string and send it\",\n",
    "        \"How to use jQuery AJAX for an outside domain?\",\n",
    "    ],\n",
    "    [\n",
    "        \"Getting all list items of an unordered list in PHP\",  # второй эксперимент\n",
    "        \"WPF- How to update the changes in list item of a list\",\n",
    "        \"select2 not displaying search results\",\n",
    "    ],\n",
    "]"
   ]
  },
  {
   "cell_type": "code",
   "execution_count": 90,
   "metadata": {
    "id": "bPj1JGFi6j3m"
   },
   "outputs": [
    {
     "name": "stdout",
     "output_type": "stream",
     "text": [
      "[(1, 'C# create cookie from string and send it'), (0, 'Convert Google results object (pure js) to Python object'), (2, 'How to use jQuery AJAX for an outside domain?')]\n",
      "\n",
      "[(1, 'WPF- How to update the changes in list item of a list'), (0, 'Getting all list items of an unordered list in PHP'), (2, 'select2 not displaying search results')]\n",
      "\n"
     ]
    }
   ],
   "source": [
    "for question, q_candidates in zip(questions, candidates):\n",
    "    ranks = rank_candidates(question, q_candidates, wv_embeddings, tokenizer)\n",
    "    print(ranks)\n",
    "    print()"
   ]
  },
  {
   "cell_type": "markdown",
   "metadata": {
    "id": "jm4cidj56j3q"
   },
   "source": [
    "Для первого экперимента вы можете полностью сравнить ваши ответы и правильные ответы. Но для второго эксперимента два ответа на кандидаты будут <b>скрыты</b>(*)"
   ]
  },
  {
   "cell_type": "code",
   "execution_count": 91,
   "metadata": {
    "id": "0LeKMIsn6j3s"
   },
   "outputs": [
    {
     "data": {
      "text/plain": [
       "[[(1, 'C# create cookie from string and send it'),\n",
       "  (0, 'Convert Google results object (pure js) to Python object'),\n",
       "  (2, 'How to use jQuery AJAX for an outside domain?')],\n",
       " [('*', 'Getting all list items of an unordered list in PHP'),\n",
       "  ('*', 'select2 not displaying search results'),\n",
       "  ('*', 'WPF- How to update the changes in list item of a list')]]"
      ]
     },
     "execution_count": 91,
     "metadata": {},
     "output_type": "execute_result"
    }
   ],
   "source": [
    "# должно вывести\n",
    "results = [\n",
    "    [\n",
    "        (1, \"C# create cookie from string and send it\"),\n",
    "        (0, \"Convert Google results object (pure js) to Python object\"),\n",
    "        (2, \"How to use jQuery AJAX for an outside domain?\"),\n",
    "    ],\n",
    "    [\n",
    "        (\"*\", \"Getting all list items of an unordered list in PHP\"),  # скрыт\n",
    "        (\"*\", \"select2 not displaying search results\"),  # скрыт\n",
    "        (\"*\", \"WPF- How to update the changes in list item of a list\"),\n",
    "    ],\n",
    "]  # скрыт\n",
    "results"
   ]
  },
  {
   "cell_type": "markdown",
   "metadata": {
    "id": "t1ttnIBe6j3x"
   },
   "source": [
    "Последовательность начальных индексов вы должны получить `для эксперимента 1`  1, 0, 2."
   ]
  },
  {
   "cell_type": "markdown",
   "metadata": {
    "id": "5WQgYDWd6j3y"
   },
   "source": [
    "#### Вопрос 5:\n",
    "* Какую последовательность начальных индексов вы получили `для эксперимента 2`(перечисление без запятой и пробелов, например, `102` для первого эксперимента?"
   ]
  },
  {
   "cell_type": "markdown",
   "metadata": {},
   "source": [
    "102"
   ]
  },
  {
   "cell_type": "markdown",
   "metadata": {
    "id": "fPllOY-Y6j30"
   },
   "source": [
    "Теперь мы можем оценить качество нашего метода. Запустите следующие два блока кода для получения результата. Обратите внимание, что вычисление расстояния между векторами занимает некоторое время (примерно 10 минут). Можете взять для validation 1000 примеров."
   ]
  },
  {
   "cell_type": "code",
   "execution_count": 92,
   "metadata": {
    "id": "Z3q9sxddz-yU"
   },
   "outputs": [],
   "source": [
    "from tqdm.notebook import tqdm"
   ]
  },
  {
   "cell_type": "code",
   "execution_count": 93,
   "metadata": {},
   "outputs": [],
   "source": [
    "def get_ranking(\n",
    "    validation_data,\n",
    "    emb,\n",
    "    tokenizer,\n",
    "    max_validation_examples=100,\n",
    "    dim=200,\n",
    "    pretrained=True,\n",
    "):\n",
    "    wv_ranking = []\n",
    "    for i, line in enumerate(tqdm(validation_data)):\n",
    "        if i == max_validation_examples:\n",
    "            break\n",
    "        q, *ex = line\n",
    "        ranks = rank_candidates(q, ex, emb, tokenizer, dim, pretrained)\n",
    "        wv_ranking.append([r[0] for r in ranks].index(0) + 1)\n",
    "    return wv_ranking"
   ]
  },
  {
   "cell_type": "code",
   "execution_count": 94,
   "metadata": {
    "id": "nu7K4mis6j32"
   },
   "outputs": [
    {
     "data": {
      "application/vnd.jupyter.widget-view+json": {
       "model_id": "9a335ba9185a46a5af5f951a400edaae",
       "version_major": 2,
       "version_minor": 0
      },
      "text/plain": [
       "  0%|          | 0/3760 [00:00<?, ?it/s]"
      ]
     },
     "metadata": {},
     "output_type": "display_data"
    },
    {
     "data": {
      "application/vnd.jupyter.widget-view+json": {
       "model_id": "86aff3fd18364b91abc42169b0082e7a",
       "version_major": 2,
       "version_minor": 0
      },
      "text/plain": [
       "  0%|          | 0/6 [00:00<?, ?it/s]"
      ]
     },
     "metadata": {},
     "output_type": "display_data"
    },
    {
     "name": "stdout",
     "output_type": "stream",
     "text": [
      "DCG@   1: 0.260 | Hits@   1: 0.260\n",
      "DCG@   5: 0.327 | Hits@   5: 0.390\n",
      "DCG@  10: 0.343 | Hits@  10: 0.440\n",
      "DCG@ 100: 0.391 | Hits@ 100: 0.670\n",
      "DCG@ 500: 0.419 | Hits@ 500: 0.890\n",
      "DCG@1000: 0.431 | Hits@1000: 1.000\n"
     ]
    }
   ],
   "source": [
    "wv_ranking_base_tokenizer = get_ranking(validation_data, wv_embeddings, regex_tokenizer)\n",
    "for k in tqdm([1, 5, 10, 100, 500, 1000]):\n",
    "    print(\n",
    "        \"DCG@%4d: %.3f | Hits@%4d: %.3f\"\n",
    "        % (\n",
    "            k,\n",
    "            dcg_score(wv_ranking_base_tokenizer, k),\n",
    "            k,\n",
    "            hits_count(wv_ranking_base_tokenizer, k),\n",
    "        )\n",
    "    )"
   ]
  },
  {
   "cell_type": "markdown",
   "metadata": {
    "id": "LL6_Rjg3InL8"
   },
   "source": [
    "### Эмбеддинги, обученные на корпусе похожих вопросов"
   ]
  },
  {
   "cell_type": "code",
   "execution_count": 95,
   "metadata": {
    "id": "iNvbpR5gJIPz"
   },
   "outputs": [],
   "source": [
    "train_data = read_corpus(\"./stackoverflow_similar_questions/data/train.tsv\")"
   ]
  },
  {
   "cell_type": "markdown",
   "metadata": {
    "id": "Nr281ZyEJfjT"
   },
   "source": [
    "Улучшите качество модели.<br>Склеим вопросы в пары и обучим на них модель Word2Vec из gensim. Выберите размер window. Объясните свой выбор."
   ]
  },
  {
   "cell_type": "code",
   "execution_count": 96,
   "metadata": {},
   "outputs": [],
   "source": [
    "train_corpus = []\n",
    "for pair in train_data:\n",
    "    train_corpus.extend(pair)"
   ]
  },
  {
   "cell_type": "code",
   "execution_count": 97,
   "metadata": {
    "id": "f6Y46SSQMTL0",
    "tags": []
   },
   "outputs": [],
   "source": [
    "from gensim import utils\n",
    "\n",
    "\n",
    "class MyCorpus:\n",
    "    \"\"\"An iterator that yields sentences (lists of str).\"\"\"\n",
    "\n",
    "    def __iter__(self):\n",
    "        for sentence in train_corpus:\n",
    "            # assume there's one document per line, tokens separated by whitespace\n",
    "            yield utils.simple_preprocess(sentence)"
   ]
  },
  {
   "cell_type": "code",
   "execution_count": 98,
   "metadata": {},
   "outputs": [],
   "source": [
    "sentences = MyCorpus()"
   ]
  },
  {
   "cell_type": "code",
   "execution_count": 99,
   "metadata": {
    "id": "QuJzAM0cI-UH"
   },
   "outputs": [],
   "source": [
    "from gensim.models import Word2Vec\n",
    "\n",
    "embeddings_trained = Word2Vec(\n",
    "    sentences,  # data for model to train on\n",
    "    vector_size=200,  # embedding vector size\n",
    "    min_count=5,  # consider words that occured at least 5 times\n",
    "    window=5,\n",
    "    workers=8,\n",
    "    sg=1,\n",
    ")"
   ]
  },
  {
   "cell_type": "code",
   "execution_count": 100,
   "metadata": {
    "id": "OQonbm4nMenD"
   },
   "outputs": [
    {
     "data": {
      "application/vnd.jupyter.widget-view+json": {
       "model_id": "d95282cbdc364724a5e418e020607af0",
       "version_major": 2,
       "version_minor": 0
      },
      "text/plain": [
       "  0%|          | 0/3760 [00:00<?, ?it/s]"
      ]
     },
     "metadata": {},
     "output_type": "display_data"
    }
   ],
   "source": [
    "wv_ranking_from_scratch = []\n",
    "max_validation_examples = 100\n",
    "for i, line in enumerate(tqdm(validation_data)):\n",
    "    if i == max_validation_examples:\n",
    "        break\n",
    "    q, *ex = line\n",
    "    ranks = rank_candidates(q, ex, embeddings_trained, tokenizer, pretrained=False)\n",
    "    wv_ranking_from_scratch.append([r[0] for r in ranks].index(0) + 1)"
   ]
  },
  {
   "cell_type": "code",
   "execution_count": 101,
   "metadata": {
    "id": "3kahBUPGMgGR"
   },
   "outputs": [
    {
     "data": {
      "application/vnd.jupyter.widget-view+json": {
       "model_id": "33423b88077949c4b1a242ce0f05d86d",
       "version_major": 2,
       "version_minor": 0
      },
      "text/plain": [
       "  0%|          | 0/6 [00:00<?, ?it/s]"
      ]
     },
     "metadata": {},
     "output_type": "display_data"
    },
    {
     "name": "stdout",
     "output_type": "stream",
     "text": [
      "DCG@   1: 0.250 | Hits@   1: 0.250\n",
      "DCG@   5: 0.296 | Hits@   5: 0.340\n",
      "DCG@  10: 0.305 | Hits@  10: 0.370\n",
      "DCG@ 100: 0.354 | Hits@ 100: 0.610\n",
      "DCG@ 500: 0.385 | Hits@ 500: 0.850\n",
      "DCG@1000: 0.400 | Hits@1000: 1.000\n"
     ]
    }
   ],
   "source": [
    "for k in tqdm([1, 5, 10, 100, 500, 1000]):\n",
    "    print(\n",
    "        \"DCG@%4d: %.3f | Hits@%4d: %.3f\"\n",
    "        % (\n",
    "            k,\n",
    "            dcg_score(wv_ranking_from_scratch, k),\n",
    "            k,\n",
    "            hits_count(wv_ranking_from_scratch, k),\n",
    "        )\n",
    "    )"
   ]
  },
  {
   "cell_type": "markdown",
   "metadata": {
    "id": "tY8PxB0j-ThG",
    "tags": []
   },
   "source": [
    "### Замечание:\n",
    "Решить эту задачу с помощью обучения полноценной нейронной сети будет вам предложено, как часть задания в одной из домашних работ по теме \"Диалоговые системы\"."
   ]
  },
  {
   "cell_type": "markdown",
   "metadata": {},
   "source": [
    "### Пробуем улучшить результаты"
   ]
  },
  {
   "cell_type": "markdown",
   "metadata": {},
   "source": [
    "#### Поработаем с предобученными эмбеддингами"
   ]
  },
  {
   "cell_type": "markdown",
   "metadata": {},
   "source": [
    "##### Tokenizers"
   ]
  },
  {
   "cell_type": "markdown",
   "metadata": {},
   "source": [
    "* regex_tokenizer - базовый токенизатор\n",
    "* tweet_tokenizer - TweetTokenizer из NLTK \n",
    "* spacy_tokenizer"
   ]
  },
  {
   "cell_type": "code",
   "execution_count": 102,
   "metadata": {
    "id": "nu7K4mis6j32"
   },
   "outputs": [
    {
     "data": {
      "application/vnd.jupyter.widget-view+json": {
       "model_id": "995092e746bf4cb5a713d39618f2c208",
       "version_major": 2,
       "version_minor": 0
      },
      "text/plain": [
       "  0%|          | 0/3760 [00:00<?, ?it/s]"
      ]
     },
     "metadata": {},
     "output_type": "display_data"
    },
    {
     "data": {
      "application/vnd.jupyter.widget-view+json": {
       "model_id": "c4bb3a87d8954ff7b5d7be496fc0949b",
       "version_major": 2,
       "version_minor": 0
      },
      "text/plain": [
       "  0%|          | 0/6 [00:00<?, ?it/s]"
      ]
     },
     "metadata": {},
     "output_type": "display_data"
    },
    {
     "name": "stdout",
     "output_type": "stream",
     "text": [
      "DCG@   1: 0.260 | Hits@   1: 0.260\n",
      "DCG@   5: 0.327 | Hits@   5: 0.390\n",
      "DCG@  10: 0.343 | Hits@  10: 0.440\n",
      "DCG@ 100: 0.391 | Hits@ 100: 0.670\n",
      "DCG@ 500: 0.419 | Hits@ 500: 0.890\n",
      "DCG@1000: 0.431 | Hits@1000: 1.000\n"
     ]
    }
   ],
   "source": [
    "wv_ranking_base_tokenizer = get_ranking(validation_data, wv_embeddings, regex_tokenizer)\n",
    "for k in tqdm([1, 5, 10, 100, 500, 1000]):\n",
    "    print(\n",
    "        \"DCG@%4d: %.3f | Hits@%4d: %.3f\"\n",
    "        % (\n",
    "            k,\n",
    "            dcg_score(wv_ranking_base_tokenizer, k),\n",
    "            k,\n",
    "            hits_count(wv_ranking_base_tokenizer, k),\n",
    "        )\n",
    "    )"
   ]
  },
  {
   "cell_type": "code",
   "execution_count": 103,
   "metadata": {
    "id": "gDtS520v6j35",
    "scrolled": true
   },
   "outputs": [
    {
     "data": {
      "application/vnd.jupyter.widget-view+json": {
       "model_id": "98e03ff07eb44cf1b5a371f0b5aa9192",
       "version_major": 2,
       "version_minor": 0
      },
      "text/plain": [
       "  0%|          | 0/3760 [00:00<?, ?it/s]"
      ]
     },
     "metadata": {},
     "output_type": "display_data"
    },
    {
     "data": {
      "application/vnd.jupyter.widget-view+json": {
       "model_id": "45938ab310ba4621a8c3d86e9bb48e53",
       "version_major": 2,
       "version_minor": 0
      },
      "text/plain": [
       "  0%|          | 0/6 [00:00<?, ?it/s]"
      ]
     },
     "metadata": {},
     "output_type": "display_data"
    },
    {
     "name": "stdout",
     "output_type": "stream",
     "text": [
      "DCG@   1: 0.270 | Hits@   1: 0.270\n",
      "DCG@   5: 0.341 | Hits@   5: 0.410\n",
      "DCG@  10: 0.350 | Hits@  10: 0.440\n",
      "DCG@ 100: 0.399 | Hits@ 100: 0.680\n",
      "DCG@ 500: 0.425 | Hits@ 500: 0.890\n",
      "DCG@1000: 0.436 | Hits@1000: 1.000\n"
     ]
    }
   ],
   "source": [
    "wv_ranking_tweet_tokenizer = get_ranking(\n",
    "    validation_data, wv_embeddings, tweet_tokenizer\n",
    ")\n",
    "for k in tqdm([1, 5, 10, 100, 500, 1000]):\n",
    "    print(\n",
    "        \"DCG@%4d: %.3f | Hits@%4d: %.3f\"\n",
    "        % (\n",
    "            k,\n",
    "            dcg_score(wv_ranking_tweet_tokenizer, k),\n",
    "            k,\n",
    "            hits_count(wv_ranking_tweet_tokenizer, k),\n",
    "        )\n",
    "    )"
   ]
  },
  {
   "cell_type": "code",
   "execution_count": 105,
   "metadata": {
    "id": "gDtS520v6j35",
    "scrolled": true
   },
   "outputs": [
    {
     "data": {
      "application/vnd.jupyter.widget-view+json": {
       "model_id": "76156d6ef9924d0789ee62d6e895bf23",
       "version_major": 2,
       "version_minor": 0
      },
      "text/plain": [
       "  0%|          | 0/3760 [00:00<?, ?it/s]"
      ]
     },
     "metadata": {},
     "output_type": "display_data"
    },
    {
     "data": {
      "application/vnd.jupyter.widget-view+json": {
       "model_id": "a4bda9e2e74049b28db863914e6ad290",
       "version_major": 2,
       "version_minor": 0
      },
      "text/plain": [
       "  0%|          | 0/6 [00:00<?, ?it/s]"
      ]
     },
     "metadata": {},
     "output_type": "display_data"
    },
    {
     "name": "stdout",
     "output_type": "stream",
     "text": [
      "DCG@   1: 0.240 | Hits@   1: 0.240\n",
      "DCG@   5: 0.306 | Hits@   5: 0.370\n",
      "DCG@  10: 0.325 | Hits@  10: 0.430\n",
      "DCG@ 100: 0.372 | Hits@ 100: 0.660\n",
      "DCG@ 500: 0.401 | Hits@ 500: 0.890\n",
      "DCG@1000: 0.413 | Hits@1000: 1.000\n"
     ]
    }
   ],
   "source": [
    "wv_ranking_spacy_tokenizer = get_ranking(\n",
    "    validation_data, wv_embeddings, spacy_tokenizer\n",
    ")\n",
    "for k in tqdm([1, 5, 10, 100, 500, 1000]):\n",
    "    print(\n",
    "        \"DCG@%4d: %.3f | Hits@%4d: %.3f\"\n",
    "        % (\n",
    "            k,\n",
    "            dcg_score(wv_ranking_spacy_tokenizer, k),\n",
    "            k,\n",
    "            hits_count(wv_ranking_spacy_tokenizer, k),\n",
    "        )\n",
    "    )"
   ]
  },
  {
   "cell_type": "markdown",
   "metadata": {},
   "source": [
    "TweetTokenizer лучше всех - берем его для дальнейших исследований"
   ]
  },
  {
   "cell_type": "code",
   "execution_count": null,
   "metadata": {},
   "outputs": [],
   "source": []
  },
  {
   "cell_type": "code",
   "execution_count": null,
   "metadata": {},
   "outputs": [],
   "source": []
  },
  {
   "cell_type": "markdown",
   "metadata": {
    "id": "vymVj8IxO2PO",
    "tags": []
   },
   "source": [
    "Напишите свой вывод о полученных результатах.\n",
    "* Какой принцип токенизации даёт качество лучше и почему?  \n",
    "`TweetTokenizer лучше всех, потому что он качественно отделяет слова`\n",
    "* Помогает ли нормализация слов?\n",
    "* Какие эмбеддинги лучше справляются с задачей и почему?\n",
    "* Почему получилось плохое качество решения задачи?\n",
    "* Предложите свой подход к решению задачи.\n",
    "\n",
    "## Вывод:\n"
   ]
  },
  {
   "cell_type": "markdown",
   "metadata": {
    "id": "emODHztAQUQz"
   },
   "source": [
    "Токенизаторы: \n"
   ]
  },
  {
   "cell_type": "code",
   "execution_count": null,
   "metadata": {},
   "outputs": [],
   "source": []
  }
 ],
 "metadata": {
  "colab": {
   "collapsed_sections": [
    "BIWqBuEa6j0b",
    "uS9FwWNd5a3S",
    "MQk_rolFwT_h",
    "ai48-5vv6j1d",
    "Y60z4t6W6j16",
    "0sUSxk866j1_",
    "J5xWOORI6j2F",
    "tHZqgDTo6j0i",
    "ySQQp0oQt1Ep",
    "LL6_Rjg3InL8"
   ],
   "name": "[homework]simple_embeddings.ipynb",
   "provenance": []
  },
  "kernelspec": {
   "display_name": "dls",
   "language": "python",
   "name": "dls"
  },
  "language_info": {
   "codemirror_mode": {
    "name": "ipython",
    "version": 3
   },
   "file_extension": ".py",
   "mimetype": "text/x-python",
   "name": "python",
   "nbconvert_exporter": "python",
   "pygments_lexer": "ipython3",
   "version": "3.8.10"
  }
 },
 "nbformat": 4,
 "nbformat_minor": 4
}
