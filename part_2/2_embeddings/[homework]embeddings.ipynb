{
 "cells": [
  {
   "cell_type": "markdown",
   "metadata": {
    "id": "Ot3c4fjZwC4T"
   },
   "source": [
    "<img src=\"https://s8.hostingkartinok.com/uploads/images/2018/08/308b49fcfbc619d629fe4604bceb67ac.jpg\" width=500, height=450>\n",
    "<h3 style=\"text-align: center;\"><b>Физтех-Школа Прикладной математики и информатики (ФПМИ) МФТИ</b></h3>"
   ]
  },
  {
   "cell_type": "markdown",
   "metadata": {
    "id": "P2JdzEXmwRU5"
   },
   "source": [
    "---"
   ]
  },
  {
   "cell_type": "markdown",
   "metadata": {
    "id": "eYtJxkhKpYK2"
   },
   "source": [
    "# Embeddings\n",
    "\n",
    "Привет! В этом домашнем задании мы с помощью эмбеддингов решим задачу семантической классификации твитов.\n",
    "\n",
    "Для этого мы воспользуемся предобученными эмбеддингами word2vec."
   ]
  },
  {
   "cell_type": "markdown",
   "metadata": {
    "id": "jBOdoFS8AdpP"
   },
   "source": [
    "Для начала скачаем датасет для семантической классификации твитов:"
   ]
  },
  {
   "cell_type": "code",
   "execution_count": 1,
   "metadata": {
    "id": "wXjhtsfF_gBK"
   },
   "outputs": [],
   "source": [
    "# !gdown https://drive.google.com/uc?id=1eE1FiUkXkcbw0McId4i7qY-L8hH-_Qph&export=download\n",
    "# !unzip archive.zip"
   ]
  },
  {
   "cell_type": "markdown",
   "metadata": {
    "id": "Sh6wW-K53Mle"
   },
   "source": [
    "Импортируем нужные библиотеки:"
   ]
  },
  {
   "cell_type": "code",
   "execution_count": 2,
   "metadata": {},
   "outputs": [],
   "source": [
    "# !pip install nltk"
   ]
  },
  {
   "cell_type": "code",
   "execution_count": 3,
   "metadata": {
    "id": "A2Y5CHRm6NFe"
   },
   "outputs": [],
   "source": [
    "import math\n",
    "import random\n",
    "import string\n",
    "\n",
    "import gensim\n",
    "import gensim.downloader as api\n",
    "import nltk\n",
    "import numpy as np\n",
    "import pandas as pd\n",
    "import seaborn as sns\n",
    "import torch\n",
    "import torch.nn as nn\n",
    "from torch.optim import Adam\n",
    "from torch.utils.data import DataLoader, Dataset, random_split"
   ]
  },
  {
   "cell_type": "code",
   "execution_count": 4,
   "metadata": {
    "id": "73Lb0wbESrgQ"
   },
   "outputs": [],
   "source": [
    "random.seed(42)\n",
    "np.random.seed(42)\n",
    "torch.random.manual_seed(42)\n",
    "torch.cuda.random.manual_seed(42)\n",
    "torch.cuda.random.manual_seed_all(42)\n",
    "\n",
    "device = \"cuda\" if torch.cuda.is_available() else \"cpu\""
   ]
  },
  {
   "cell_type": "code",
   "execution_count": 5,
   "metadata": {
    "id": "L_Wv-4bu83Fl"
   },
   "outputs": [],
   "source": [
    "data = pd.read_csv(\n",
    "    \"data/training.1600000.processed.noemoticon.csv\",\n",
    "    encoding=\"latin\",\n",
    "    header=None,\n",
    "    names=[\"emotion\", \"id\", \"date\", \"flag\", \"user\", \"text\"],\n",
    ")"
   ]
  },
  {
   "cell_type": "markdown",
   "metadata": {
    "id": "RY1pvYDS3Yuj"
   },
   "source": [
    "Посмотрим на данные:"
   ]
  },
  {
   "cell_type": "code",
   "execution_count": 6,
   "metadata": {
    "id": "jST2tjgjCTWD"
   },
   "outputs": [
    {
     "data": {
      "text/html": [
       "<div>\n",
       "<style scoped>\n",
       "    .dataframe tbody tr th:only-of-type {\n",
       "        vertical-align: middle;\n",
       "    }\n",
       "\n",
       "    .dataframe tbody tr th {\n",
       "        vertical-align: top;\n",
       "    }\n",
       "\n",
       "    .dataframe thead th {\n",
       "        text-align: right;\n",
       "    }\n",
       "</style>\n",
       "<table border=\"1\" class=\"dataframe\">\n",
       "  <thead>\n",
       "    <tr style=\"text-align: right;\">\n",
       "      <th></th>\n",
       "      <th>emotion</th>\n",
       "      <th>id</th>\n",
       "      <th>date</th>\n",
       "      <th>flag</th>\n",
       "      <th>user</th>\n",
       "      <th>text</th>\n",
       "    </tr>\n",
       "  </thead>\n",
       "  <tbody>\n",
       "    <tr>\n",
       "      <th>0</th>\n",
       "      <td>0</td>\n",
       "      <td>1467810369</td>\n",
       "      <td>Mon Apr 06 22:19:45 PDT 2009</td>\n",
       "      <td>NO_QUERY</td>\n",
       "      <td>_TheSpecialOne_</td>\n",
       "      <td>@switchfoot http://twitpic.com/2y1zl - Awww, t...</td>\n",
       "    </tr>\n",
       "    <tr>\n",
       "      <th>1</th>\n",
       "      <td>0</td>\n",
       "      <td>1467810672</td>\n",
       "      <td>Mon Apr 06 22:19:49 PDT 2009</td>\n",
       "      <td>NO_QUERY</td>\n",
       "      <td>scotthamilton</td>\n",
       "      <td>is upset that he can't update his Facebook by ...</td>\n",
       "    </tr>\n",
       "    <tr>\n",
       "      <th>2</th>\n",
       "      <td>0</td>\n",
       "      <td>1467810917</td>\n",
       "      <td>Mon Apr 06 22:19:53 PDT 2009</td>\n",
       "      <td>NO_QUERY</td>\n",
       "      <td>mattycus</td>\n",
       "      <td>@Kenichan I dived many times for the ball. Man...</td>\n",
       "    </tr>\n",
       "    <tr>\n",
       "      <th>3</th>\n",
       "      <td>0</td>\n",
       "      <td>1467811184</td>\n",
       "      <td>Mon Apr 06 22:19:57 PDT 2009</td>\n",
       "      <td>NO_QUERY</td>\n",
       "      <td>ElleCTF</td>\n",
       "      <td>my whole body feels itchy and like its on fire</td>\n",
       "    </tr>\n",
       "    <tr>\n",
       "      <th>4</th>\n",
       "      <td>0</td>\n",
       "      <td>1467811193</td>\n",
       "      <td>Mon Apr 06 22:19:57 PDT 2009</td>\n",
       "      <td>NO_QUERY</td>\n",
       "      <td>Karoli</td>\n",
       "      <td>@nationwideclass no, it's not behaving at all....</td>\n",
       "    </tr>\n",
       "  </tbody>\n",
       "</table>\n",
       "</div>"
      ],
      "text/plain": [
       "   emotion          id                          date      flag  \\\n",
       "0        0  1467810369  Mon Apr 06 22:19:45 PDT 2009  NO_QUERY   \n",
       "1        0  1467810672  Mon Apr 06 22:19:49 PDT 2009  NO_QUERY   \n",
       "2        0  1467810917  Mon Apr 06 22:19:53 PDT 2009  NO_QUERY   \n",
       "3        0  1467811184  Mon Apr 06 22:19:57 PDT 2009  NO_QUERY   \n",
       "4        0  1467811193  Mon Apr 06 22:19:57 PDT 2009  NO_QUERY   \n",
       "\n",
       "              user                                               text  \n",
       "0  _TheSpecialOne_  @switchfoot http://twitpic.com/2y1zl - Awww, t...  \n",
       "1    scotthamilton  is upset that he can't update his Facebook by ...  \n",
       "2         mattycus  @Kenichan I dived many times for the ball. Man...  \n",
       "3          ElleCTF    my whole body feels itchy and like its on fire   \n",
       "4           Karoli  @nationwideclass no, it's not behaving at all....  "
      ]
     },
     "execution_count": 6,
     "metadata": {},
     "output_type": "execute_result"
    }
   ],
   "source": [
    "data.head()"
   ]
  },
  {
   "cell_type": "markdown",
   "metadata": {
    "id": "OhbR5JJyA2VW"
   },
   "source": [
    "Выведем несколько примеров твитов, чтобы понимать, с чем мы имеем дело:"
   ]
  },
  {
   "cell_type": "code",
   "execution_count": 7,
   "metadata": {
    "id": "kCBwe0wR83C2"
   },
   "outputs": [
    {
     "name": "stdout",
     "output_type": "stream",
     "text": [
      "@chrishasboobs AHHH I HOPE YOUR OK!!! \n",
      "@misstoriblack cool , i have no tweet apps  for my razr 2\n",
      "@TiannaChaos i know  just family drama. its lame.hey next time u hang out with kim n u guys like have a sleepover or whatever, ill call u\n",
      "School email won't open  and I have geography stuff on there to revise! *Stupid School* :'(\n",
      "upper airways problem \n",
      "Going to miss Pastor's sermon on Faith... \n",
      "on lunch....dj should come eat with me \n",
      "@piginthepoke oh why are you feeling like that? \n",
      "gahh noo!peyton needs to live!this is horrible \n",
      "@mrstessyman thank you glad you like it! There is a product review bit on the site  Enjoy knitting it!\n"
     ]
    }
   ],
   "source": [
    "examples = data[\"text\"].sample(10)\n",
    "print(\"\\n\".join(examples))"
   ]
  },
  {
   "cell_type": "markdown",
   "metadata": {
    "id": "GvcYW8aX3mKt"
   },
   "source": [
    "Как вилим, тексты твитов очень \"грязные\". Нужно предобработать датасет, прежде чем строить для него модель классификации.\n",
    "\n",
    "Чтобы сравнивать различные методы обработки текста/модели/прочее, разделим датасет на dev(для обучения модели) и test(для получения качества модели)."
   ]
  },
  {
   "cell_type": "code",
   "execution_count": 8,
   "metadata": {
    "id": "f8hUK-jnQg6O"
   },
   "outputs": [],
   "source": [
    "indexes = np.arange(data.shape[0])\n",
    "np.random.shuffle(indexes)\n",
    "dev_size = math.ceil(data.shape[0] * 0.8)\n",
    "\n",
    "dev_indexes = indexes[:dev_size]\n",
    "test_indexes = indexes[dev_size:]\n",
    "\n",
    "dev_data = data.iloc[dev_indexes]\n",
    "test_data = data.iloc[test_indexes]\n",
    "\n",
    "dev_data.reset_index(drop=True, inplace=True)\n",
    "test_data.reset_index(drop=True, inplace=True)"
   ]
  },
  {
   "cell_type": "markdown",
   "metadata": {
    "id": "6ivcpeFoCnZA"
   },
   "source": [
    "## Обработка текста"
   ]
  },
  {
   "cell_type": "markdown",
   "metadata": {
    "id": "Df4nca285Dar"
   },
   "source": [
    "Токенизируем текст, избавимся от знаков пунктуации и выкинем все слова, состоящие менее чем из 4 букв:"
   ]
  },
  {
   "cell_type": "code",
   "execution_count": 9,
   "metadata": {
    "id": "nsNHNDES9ZVF"
   },
   "outputs": [
    {
     "name": "stdout",
     "output_type": "stream",
     "text": [
      "@ claire_nelson i ' m on the north devon coast the next few weeks will be down in devon again in may sometime i hope though !\n"
     ]
    }
   ],
   "source": [
    "tokenizer = nltk.WordPunctTokenizer()\n",
    "line = tokenizer.tokenize(dev_data[\"text\"][0].lower())\n",
    "print(\" \".join(line))"
   ]
  },
  {
   "cell_type": "code",
   "execution_count": 10,
   "metadata": {
    "id": "GcBS_u_hTuxp"
   },
   "outputs": [
    {
     "name": "stdout",
     "output_type": "stream",
     "text": [
      "north devon coast next weeks will down devon again sometime hope though\n"
     ]
    }
   ],
   "source": [
    "filtered_line = [\n",
    "    w for w in line if all(c not in string.punctuation for c in w) and len(w) > 3\n",
    "]\n",
    "print(\" \".join(filtered_line))"
   ]
  },
  {
   "cell_type": "markdown",
   "metadata": {
    "id": "cuFmlXkC6E7X"
   },
   "source": [
    "Загрузим предобученную модель эмбеддингов. \n",
    "\n",
    "Если хотите, можно попробовать другую. Полный список можно найти здесь: https://github.com/RaRe-Technologies/gensim-data.\n",
    "\n",
    "Данная модель выдает эмбеддинги для **слов**. Строить по эмбеддингам слов эмбеддинги предложений мы будем ниже."
   ]
  },
  {
   "cell_type": "code",
   "execution_count": 11,
   "metadata": {
    "id": "cACJpje2T5bc"
   },
   "outputs": [],
   "source": [
    "word2vec = api.load(\"word2vec-google-news-300\")"
   ]
  },
  {
   "cell_type": "code",
   "execution_count": 12,
   "metadata": {
    "id": "NafmYHrkT5YD"
   },
   "outputs": [
    {
     "name": "stdout",
     "output_type": "stream",
     "text": [
      "(300,)\n"
     ]
    }
   ],
   "source": [
    "emb_line = [word2vec.get_vector(w) for w in filtered_line if w in word2vec]\n",
    "print(sum(emb_line).shape)"
   ]
  },
  {
   "cell_type": "markdown",
   "metadata": {
    "id": "LTS6LCkd6_E7"
   },
   "source": [
    "Нормализуем эмбеддинги, прежде чем обучать на них сеть. \n",
    "(наверное, вы помните, что нейронные сети гораздо лучше обучаются на нормализованных данных)"
   ]
  },
  {
   "cell_type": "code",
   "execution_count": 13,
   "metadata": {
    "id": "3PyLTZ6xf3Oq"
   },
   "outputs": [
    {
     "name": "stdout",
     "output_type": "stream",
     "text": [
      "(300,)\n",
      "[False, False, False, False, False, False, False, False, False, False, False, False]\n"
     ]
    }
   ],
   "source": [
    "mean = np.mean(word2vec.vectors, 0)\n",
    "std = np.std(word2vec.vectors, 0)\n",
    "norm_emb_line = [\n",
    "    (word2vec.get_vector(w) - mean) / std\n",
    "    for w in filtered_line\n",
    "    if w in word2vec and len(w) > 3\n",
    "]\n",
    "print(sum(norm_emb_line).shape)\n",
    "print([all(norm_emb_line[i] == emb_line[i]) for i in range(len(emb_line))])"
   ]
  },
  {
   "cell_type": "markdown",
   "metadata": {
    "id": "q7vm6Ppd7Ubw"
   },
   "source": [
    "Сделаем датасет, который будет по запросу возвращать подготовленные данные."
   ]
  },
  {
   "cell_type": "code",
   "execution_count": 44,
   "metadata": {
    "id": "b4eZajF7pZ1X"
   },
   "outputs": [],
   "source": [
    "class TwitterDataset(Dataset):\n",
    "    def __init__(\n",
    "        self,\n",
    "        data: pd.DataFrame,\n",
    "        feature_column: str,\n",
    "        target_column: str,\n",
    "        word2vec: gensim.models.Word2Vec,\n",
    "    ):\n",
    "        self.tokenizer = nltk.WordPunctTokenizer()\n",
    "\n",
    "        self.data = data\n",
    "\n",
    "        self.feature_column = feature_column\n",
    "        self.target_column = target_column\n",
    "\n",
    "        self.word2vec = word2vec\n",
    "\n",
    "        self.label2num = lambda label: 0 if label == 0 else 1\n",
    "        self.mean = np.mean(word2vec.vectors, axis=0)\n",
    "        self.std = np.std(word2vec.vectors, axis=0)\n",
    "\n",
    "    def __len__(self):\n",
    "        return self.data.shape[0]\n",
    "\n",
    "    def __getitem__(self, idx):\n",
    "        text = self.data[self.feature_column][idx]\n",
    "        label = self.label2num(self.data[self.target_column][idx])\n",
    "\n",
    "        tokens = self.get_tokens_(text)\n",
    "        embeddings = self.get_embeddings_(tokens)\n",
    "\n",
    "        return {\"feature\": embeddings, \"target\": label}\n",
    "\n",
    "    def get_tokens_(self, text):\n",
    "        # Получи все токены из текста и профильтруй их\n",
    "        tokenized_text = self.tokenizer.tokenize(text.lower())\n",
    "        tokens = [\n",
    "            w\n",
    "            for w in tokenized_text\n",
    "            if all(c not in string.punctuation for c in w) and len(w) > 3\n",
    "        ]\n",
    "\n",
    "        return tokens\n",
    "\n",
    "    def get_embeddings_(self, tokens):\n",
    "        embeddings = [\n",
    "            self.word2vec[token]\n",
    "            if token in self.word2vec and len(token) > 3\n",
    "            else np.zeros((word2vec.vector_size, ))\n",
    "            for token in tokens\n",
    "        ]\n",
    "\n",
    "        if len(embeddings) == 0:\n",
    "            embeddings = np.zeros((1, self.word2vec.vector_size))\n",
    "        else:\n",
    "            embeddings = np.array(embeddings)\n",
    "            if len(embeddings.shape) == 1:\n",
    "                embeddings = embeddings.reshape(-1, 1)\n",
    "\n",
    "        return embeddings"
   ]
  },
  {
   "cell_type": "code",
   "execution_count": 45,
   "metadata": {
    "id": "IZJpttbXpZyz"
   },
   "outputs": [],
   "source": [
    "dev = TwitterDataset(dev_data, \"text\", \"emotion\", word2vec)"
   ]
  },
  {
   "cell_type": "markdown",
   "metadata": {
    "id": "Sr-aetH0_LH1"
   },
   "source": [
    "Отлично, мы готовы с помощью эмбеддингов слов превращать твиты в векторы и обучать нейронную сеть.\n",
    "\n",
    "Превращать твиты в векторы, используя эмбеддинги слов, можно несколькими способами. А именно такими:"
   ]
  },
  {
   "cell_type": "markdown",
   "metadata": {
    "id": "4AhHrWa196Yc"
   },
   "source": [
    "## Average embedding (2 балла)\n",
    "---\n",
    "Это самый простой вариант, как получить вектор предложения, используя векторные представления слов в предложении.  \n",
    "А именно: вектор предложения есть средний вектор всех слов в предлоежнии (которые остались после токенизации и удаления коротких слов, конечно). "
   ]
  },
  {
   "cell_type": "code",
   "execution_count": 46,
   "metadata": {
    "id": "ScdokSW-994t"
   },
   "outputs": [
    {
     "name": "stdout",
     "output_type": "stream",
     "text": [
      "1280\n"
     ]
    }
   ],
   "source": [
    "indexes = np.arange(len(dev))\n",
    "np.random.shuffle(indexes)\n",
    "example_indexes = indexes[::1000]\n",
    "\n",
    "examples = {\n",
    "    \"features\": [np.sum(dev[i][\"feature\"], axis=0) for i in example_indexes],\n",
    "    \"targets\": [dev[i][\"target\"] for i in example_indexes],\n",
    "}\n",
    "print(len(examples[\"features\"]))"
   ]
  },
  {
   "cell_type": "markdown",
   "metadata": {
    "id": "1yGQ_lOx_1NL"
   },
   "source": [
    "Давайте сделаем визуализацию полученных векторов твитов тренировочного (dev) датасета. Так мы увидим, насколько хорошо твиты с разными target значениями отделяются друг от друга, т.е. насколько хорошо усреднение эмбеддингов слов предложения передает информацию о предложении."
   ]
  },
  {
   "cell_type": "markdown",
   "metadata": {
    "id": "LZwFksd_8uYO"
   },
   "source": [
    "Для визуализации векторов надо получить их проекцию на плоскость. Сделаем это с помощью `PCA`. Если хотите, можете вместо PCA использовать TSNE: так у вас получится более точная проекция на плоскость (а значит, более информативная, т.е. отражающая реальное положение векторов твитов в пространстве). Но TSNE будет работать намного дольше."
   ]
  },
  {
   "cell_type": "code",
   "execution_count": 17,
   "metadata": {
    "id": "aKFZRSHdtIac"
   },
   "outputs": [],
   "source": [
    "from sklearn.decomposition import PCA\n",
    "\n",
    "pca = PCA(n_components=2)\n",
    "examples[\"transformed_features\"] = pca.fit_transform(examples[\"features\"])"
   ]
  },
  {
   "cell_type": "code",
   "execution_count": 18,
   "metadata": {},
   "outputs": [],
   "source": [
    "# !pip install bokeh"
   ]
  },
  {
   "cell_type": "code",
   "execution_count": 19,
   "metadata": {
    "id": "szEOWdiNtIX8"
   },
   "outputs": [
    {
     "data": {
      "text/html": [
       "\n",
       "    <div class=\"bk-root\">\n",
       "        <a href=\"https://bokeh.org\" target=\"_blank\" class=\"bk-logo bk-logo-small bk-logo-notebook\"></a>\n",
       "        <span id=\"1002\">Loading BokehJS ...</span>\n",
       "    </div>"
      ]
     },
     "metadata": {},
     "output_type": "display_data"
    },
    {
     "data": {
      "application/javascript": [
       "\n",
       "(function(root) {\n",
       "  function now() {\n",
       "    return new Date();\n",
       "  }\n",
       "\n",
       "  const force = true;\n",
       "\n",
       "  if (typeof root._bokeh_onload_callbacks === \"undefined\" || force === true) {\n",
       "    root._bokeh_onload_callbacks = [];\n",
       "    root._bokeh_is_loading = undefined;\n",
       "  }\n",
       "\n",
       "  const JS_MIME_TYPE = 'application/javascript';\n",
       "  const HTML_MIME_TYPE = 'text/html';\n",
       "  const EXEC_MIME_TYPE = 'application/vnd.bokehjs_exec.v0+json';\n",
       "  const CLASS_NAME = 'output_bokeh rendered_html';\n",
       "\n",
       "  /**\n",
       "   * Render data to the DOM node\n",
       "   */\n",
       "  function render(props, node) {\n",
       "    const script = document.createElement(\"script\");\n",
       "    node.appendChild(script);\n",
       "  }\n",
       "\n",
       "  /**\n",
       "   * Handle when an output is cleared or removed\n",
       "   */\n",
       "  function handleClearOutput(event, handle) {\n",
       "    const cell = handle.cell;\n",
       "\n",
       "    const id = cell.output_area._bokeh_element_id;\n",
       "    const server_id = cell.output_area._bokeh_server_id;\n",
       "    // Clean up Bokeh references\n",
       "    if (id != null && id in Bokeh.index) {\n",
       "      Bokeh.index[id].model.document.clear();\n",
       "      delete Bokeh.index[id];\n",
       "    }\n",
       "\n",
       "    if (server_id !== undefined) {\n",
       "      // Clean up Bokeh references\n",
       "      const cmd_clean = \"from bokeh.io.state import curstate; print(curstate().uuid_to_server['\" + server_id + \"'].get_sessions()[0].document.roots[0]._id)\";\n",
       "      cell.notebook.kernel.execute(cmd_clean, {\n",
       "        iopub: {\n",
       "          output: function(msg) {\n",
       "            const id = msg.content.text.trim();\n",
       "            if (id in Bokeh.index) {\n",
       "              Bokeh.index[id].model.document.clear();\n",
       "              delete Bokeh.index[id];\n",
       "            }\n",
       "          }\n",
       "        }\n",
       "      });\n",
       "      // Destroy server and session\n",
       "      const cmd_destroy = \"import bokeh.io.notebook as ion; ion.destroy_server('\" + server_id + \"')\";\n",
       "      cell.notebook.kernel.execute(cmd_destroy);\n",
       "    }\n",
       "  }\n",
       "\n",
       "  /**\n",
       "   * Handle when a new output is added\n",
       "   */\n",
       "  function handleAddOutput(event, handle) {\n",
       "    const output_area = handle.output_area;\n",
       "    const output = handle.output;\n",
       "\n",
       "    // limit handleAddOutput to display_data with EXEC_MIME_TYPE content only\n",
       "    if ((output.output_type != \"display_data\") || (!Object.prototype.hasOwnProperty.call(output.data, EXEC_MIME_TYPE))) {\n",
       "      return\n",
       "    }\n",
       "\n",
       "    const toinsert = output_area.element.find(\".\" + CLASS_NAME.split(' ')[0]);\n",
       "\n",
       "    if (output.metadata[EXEC_MIME_TYPE][\"id\"] !== undefined) {\n",
       "      toinsert[toinsert.length - 1].firstChild.textContent = output.data[JS_MIME_TYPE];\n",
       "      // store reference to embed id on output_area\n",
       "      output_area._bokeh_element_id = output.metadata[EXEC_MIME_TYPE][\"id\"];\n",
       "    }\n",
       "    if (output.metadata[EXEC_MIME_TYPE][\"server_id\"] !== undefined) {\n",
       "      const bk_div = document.createElement(\"div\");\n",
       "      bk_div.innerHTML = output.data[HTML_MIME_TYPE];\n",
       "      const script_attrs = bk_div.children[0].attributes;\n",
       "      for (let i = 0; i < script_attrs.length; i++) {\n",
       "        toinsert[toinsert.length - 1].firstChild.setAttribute(script_attrs[i].name, script_attrs[i].value);\n",
       "        toinsert[toinsert.length - 1].firstChild.textContent = bk_div.children[0].textContent\n",
       "      }\n",
       "      // store reference to server id on output_area\n",
       "      output_area._bokeh_server_id = output.metadata[EXEC_MIME_TYPE][\"server_id\"];\n",
       "    }\n",
       "  }\n",
       "\n",
       "  function register_renderer(events, OutputArea) {\n",
       "\n",
       "    function append_mime(data, metadata, element) {\n",
       "      // create a DOM node to render to\n",
       "      const toinsert = this.create_output_subarea(\n",
       "        metadata,\n",
       "        CLASS_NAME,\n",
       "        EXEC_MIME_TYPE\n",
       "      );\n",
       "      this.keyboard_manager.register_events(toinsert);\n",
       "      // Render to node\n",
       "      const props = {data: data, metadata: metadata[EXEC_MIME_TYPE]};\n",
       "      render(props, toinsert[toinsert.length - 1]);\n",
       "      element.append(toinsert);\n",
       "      return toinsert\n",
       "    }\n",
       "\n",
       "    /* Handle when an output is cleared or removed */\n",
       "    events.on('clear_output.CodeCell', handleClearOutput);\n",
       "    events.on('delete.Cell', handleClearOutput);\n",
       "\n",
       "    /* Handle when a new output is added */\n",
       "    events.on('output_added.OutputArea', handleAddOutput);\n",
       "\n",
       "    /**\n",
       "     * Register the mime type and append_mime function with output_area\n",
       "     */\n",
       "    OutputArea.prototype.register_mime_type(EXEC_MIME_TYPE, append_mime, {\n",
       "      /* Is output safe? */\n",
       "      safe: true,\n",
       "      /* Index of renderer in `output_area.display_order` */\n",
       "      index: 0\n",
       "    });\n",
       "  }\n",
       "\n",
       "  // register the mime type if in Jupyter Notebook environment and previously unregistered\n",
       "  if (root.Jupyter !== undefined) {\n",
       "    const events = require('base/js/events');\n",
       "    const OutputArea = require('notebook/js/outputarea').OutputArea;\n",
       "\n",
       "    if (OutputArea.prototype.mime_types().indexOf(EXEC_MIME_TYPE) == -1) {\n",
       "      register_renderer(events, OutputArea);\n",
       "    }\n",
       "  }\n",
       "\n",
       "  \n",
       "  if (typeof (root._bokeh_timeout) === \"undefined\" || force === true) {\n",
       "    root._bokeh_timeout = Date.now() + 5000;\n",
       "    root._bokeh_failed_load = false;\n",
       "  }\n",
       "\n",
       "  const NB_LOAD_WARNING = {'data': {'text/html':\n",
       "     \"<div style='background-color: #fdd'>\\n\"+\n",
       "     \"<p>\\n\"+\n",
       "     \"BokehJS does not appear to have successfully loaded. If loading BokehJS from CDN, this \\n\"+\n",
       "     \"may be due to a slow or bad network connection. Possible fixes:\\n\"+\n",
       "     \"</p>\\n\"+\n",
       "     \"<ul>\\n\"+\n",
       "     \"<li>re-rerun `output_notebook()` to attempt to load from CDN again, or</li>\\n\"+\n",
       "     \"<li>use INLINE resources instead, as so:</li>\\n\"+\n",
       "     \"</ul>\\n\"+\n",
       "     \"<code>\\n\"+\n",
       "     \"from bokeh.resources import INLINE\\n\"+\n",
       "     \"output_notebook(resources=INLINE)\\n\"+\n",
       "     \"</code>\\n\"+\n",
       "     \"</div>\"}};\n",
       "\n",
       "  function display_loaded() {\n",
       "    const el = document.getElementById(\"1002\");\n",
       "    if (el != null) {\n",
       "      el.textContent = \"BokehJS is loading...\";\n",
       "    }\n",
       "    if (root.Bokeh !== undefined) {\n",
       "      if (el != null) {\n",
       "        el.textContent = \"BokehJS \" + root.Bokeh.version + \" successfully loaded.\";\n",
       "      }\n",
       "    } else if (Date.now() < root._bokeh_timeout) {\n",
       "      setTimeout(display_loaded, 100)\n",
       "    }\n",
       "  }\n",
       "\n",
       "\n",
       "  function run_callbacks() {\n",
       "    try {\n",
       "      root._bokeh_onload_callbacks.forEach(function(callback) {\n",
       "        if (callback != null)\n",
       "          callback();\n",
       "      });\n",
       "    } finally {\n",
       "      delete root._bokeh_onload_callbacks\n",
       "    }\n",
       "    console.debug(\"Bokeh: all callbacks have finished\");\n",
       "  }\n",
       "\n",
       "  function load_libs(css_urls, js_urls, callback) {\n",
       "    if (css_urls == null) css_urls = [];\n",
       "    if (js_urls == null) js_urls = [];\n",
       "\n",
       "    root._bokeh_onload_callbacks.push(callback);\n",
       "    if (root._bokeh_is_loading > 0) {\n",
       "      console.debug(\"Bokeh: BokehJS is being loaded, scheduling callback at\", now());\n",
       "      return null;\n",
       "    }\n",
       "    if (js_urls == null || js_urls.length === 0) {\n",
       "      run_callbacks();\n",
       "      return null;\n",
       "    }\n",
       "    console.debug(\"Bokeh: BokehJS not loaded, scheduling load and callback at\", now());\n",
       "    root._bokeh_is_loading = css_urls.length + js_urls.length;\n",
       "\n",
       "    function on_load() {\n",
       "      root._bokeh_is_loading--;\n",
       "      if (root._bokeh_is_loading === 0) {\n",
       "        console.debug(\"Bokeh: all BokehJS libraries/stylesheets loaded\");\n",
       "        run_callbacks()\n",
       "      }\n",
       "    }\n",
       "\n",
       "    function on_error(url) {\n",
       "      console.error(\"failed to load \" + url);\n",
       "    }\n",
       "\n",
       "    for (let i = 0; i < css_urls.length; i++) {\n",
       "      const url = css_urls[i];\n",
       "      const element = document.createElement(\"link\");\n",
       "      element.onload = on_load;\n",
       "      element.onerror = on_error.bind(null, url);\n",
       "      element.rel = \"stylesheet\";\n",
       "      element.type = \"text/css\";\n",
       "      element.href = url;\n",
       "      console.debug(\"Bokeh: injecting link tag for BokehJS stylesheet: \", url);\n",
       "      document.body.appendChild(element);\n",
       "    }\n",
       "\n",
       "    for (let i = 0; i < js_urls.length; i++) {\n",
       "      const url = js_urls[i];\n",
       "      const element = document.createElement('script');\n",
       "      element.onload = on_load;\n",
       "      element.onerror = on_error.bind(null, url);\n",
       "      element.async = false;\n",
       "      element.src = url;\n",
       "      console.debug(\"Bokeh: injecting script tag for BokehJS library: \", url);\n",
       "      document.head.appendChild(element);\n",
       "    }\n",
       "  };\n",
       "\n",
       "  function inject_raw_css(css) {\n",
       "    const element = document.createElement(\"style\");\n",
       "    element.appendChild(document.createTextNode(css));\n",
       "    document.body.appendChild(element);\n",
       "  }\n",
       "\n",
       "  \n",
       "  const js_urls = [\"https://cdn.bokeh.org/bokeh/release/bokeh-2.4.2.min.js\", \"https://cdn.bokeh.org/bokeh/release/bokeh-gl-2.4.2.min.js\", \"https://cdn.bokeh.org/bokeh/release/bokeh-widgets-2.4.2.min.js\", \"https://cdn.bokeh.org/bokeh/release/bokeh-tables-2.4.2.min.js\", \"https://cdn.bokeh.org/bokeh/release/bokeh-mathjax-2.4.2.min.js\"];\n",
       "  const css_urls = [];\n",
       "  \n",
       "\n",
       "  const inline_js = [\n",
       "    function(Bokeh) {\n",
       "      Bokeh.set_log_level(\"info\");\n",
       "    },\n",
       "    function(Bokeh) {\n",
       "    \n",
       "    \n",
       "    }\n",
       "  ];\n",
       "\n",
       "  function run_inline_js() {\n",
       "    \n",
       "    if (root.Bokeh !== undefined || force === true) {\n",
       "      \n",
       "    for (let i = 0; i < inline_js.length; i++) {\n",
       "      inline_js[i].call(root, root.Bokeh);\n",
       "    }\n",
       "    if (force === true) {\n",
       "        display_loaded();\n",
       "      }} else if (Date.now() < root._bokeh_timeout) {\n",
       "      setTimeout(run_inline_js, 100);\n",
       "    } else if (!root._bokeh_failed_load) {\n",
       "      console.log(\"Bokeh: BokehJS failed to load within specified timeout.\");\n",
       "      root._bokeh_failed_load = true;\n",
       "    } else if (force !== true) {\n",
       "      const cell = $(document.getElementById(\"1002\")).parents('.cell').data().cell;\n",
       "      cell.output_area.append_execute_result(NB_LOAD_WARNING)\n",
       "    }\n",
       "\n",
       "  }\n",
       "\n",
       "  if (root._bokeh_is_loading === 0) {\n",
       "    console.debug(\"Bokeh: BokehJS loaded, going straight to plotting\");\n",
       "    run_inline_js();\n",
       "  } else {\n",
       "    load_libs(css_urls, js_urls, function() {\n",
       "      console.debug(\"Bokeh: BokehJS plotting callback run at\", now());\n",
       "      run_inline_js();\n",
       "    });\n",
       "  }\n",
       "}(window));"
      ],
      "application/vnd.bokehjs_load.v0+json": "\n(function(root) {\n  function now() {\n    return new Date();\n  }\n\n  const force = true;\n\n  if (typeof root._bokeh_onload_callbacks === \"undefined\" || force === true) {\n    root._bokeh_onload_callbacks = [];\n    root._bokeh_is_loading = undefined;\n  }\n\n  \n\n  \n  if (typeof (root._bokeh_timeout) === \"undefined\" || force === true) {\n    root._bokeh_timeout = Date.now() + 5000;\n    root._bokeh_failed_load = false;\n  }\n\n  const NB_LOAD_WARNING = {'data': {'text/html':\n     \"<div style='background-color: #fdd'>\\n\"+\n     \"<p>\\n\"+\n     \"BokehJS does not appear to have successfully loaded. If loading BokehJS from CDN, this \\n\"+\n     \"may be due to a slow or bad network connection. Possible fixes:\\n\"+\n     \"</p>\\n\"+\n     \"<ul>\\n\"+\n     \"<li>re-rerun `output_notebook()` to attempt to load from CDN again, or</li>\\n\"+\n     \"<li>use INLINE resources instead, as so:</li>\\n\"+\n     \"</ul>\\n\"+\n     \"<code>\\n\"+\n     \"from bokeh.resources import INLINE\\n\"+\n     \"output_notebook(resources=INLINE)\\n\"+\n     \"</code>\\n\"+\n     \"</div>\"}};\n\n  function display_loaded() {\n    const el = document.getElementById(\"1002\");\n    if (el != null) {\n      el.textContent = \"BokehJS is loading...\";\n    }\n    if (root.Bokeh !== undefined) {\n      if (el != null) {\n        el.textContent = \"BokehJS \" + root.Bokeh.version + \" successfully loaded.\";\n      }\n    } else if (Date.now() < root._bokeh_timeout) {\n      setTimeout(display_loaded, 100)\n    }\n  }\n\n\n  function run_callbacks() {\n    try {\n      root._bokeh_onload_callbacks.forEach(function(callback) {\n        if (callback != null)\n          callback();\n      });\n    } finally {\n      delete root._bokeh_onload_callbacks\n    }\n    console.debug(\"Bokeh: all callbacks have finished\");\n  }\n\n  function load_libs(css_urls, js_urls, callback) {\n    if (css_urls == null) css_urls = [];\n    if (js_urls == null) js_urls = [];\n\n    root._bokeh_onload_callbacks.push(callback);\n    if (root._bokeh_is_loading > 0) {\n      console.debug(\"Bokeh: BokehJS is being loaded, scheduling callback at\", now());\n      return null;\n    }\n    if (js_urls == null || js_urls.length === 0) {\n      run_callbacks();\n      return null;\n    }\n    console.debug(\"Bokeh: BokehJS not loaded, scheduling load and callback at\", now());\n    root._bokeh_is_loading = css_urls.length + js_urls.length;\n\n    function on_load() {\n      root._bokeh_is_loading--;\n      if (root._bokeh_is_loading === 0) {\n        console.debug(\"Bokeh: all BokehJS libraries/stylesheets loaded\");\n        run_callbacks()\n      }\n    }\n\n    function on_error(url) {\n      console.error(\"failed to load \" + url);\n    }\n\n    for (let i = 0; i < css_urls.length; i++) {\n      const url = css_urls[i];\n      const element = document.createElement(\"link\");\n      element.onload = on_load;\n      element.onerror = on_error.bind(null, url);\n      element.rel = \"stylesheet\";\n      element.type = \"text/css\";\n      element.href = url;\n      console.debug(\"Bokeh: injecting link tag for BokehJS stylesheet: \", url);\n      document.body.appendChild(element);\n    }\n\n    for (let i = 0; i < js_urls.length; i++) {\n      const url = js_urls[i];\n      const element = document.createElement('script');\n      element.onload = on_load;\n      element.onerror = on_error.bind(null, url);\n      element.async = false;\n      element.src = url;\n      console.debug(\"Bokeh: injecting script tag for BokehJS library: \", url);\n      document.head.appendChild(element);\n    }\n  };\n\n  function inject_raw_css(css) {\n    const element = document.createElement(\"style\");\n    element.appendChild(document.createTextNode(css));\n    document.body.appendChild(element);\n  }\n\n  \n  const js_urls = [\"https://cdn.bokeh.org/bokeh/release/bokeh-2.4.2.min.js\", \"https://cdn.bokeh.org/bokeh/release/bokeh-gl-2.4.2.min.js\", \"https://cdn.bokeh.org/bokeh/release/bokeh-widgets-2.4.2.min.js\", \"https://cdn.bokeh.org/bokeh/release/bokeh-tables-2.4.2.min.js\", \"https://cdn.bokeh.org/bokeh/release/bokeh-mathjax-2.4.2.min.js\"];\n  const css_urls = [];\n  \n\n  const inline_js = [\n    function(Bokeh) {\n      Bokeh.set_log_level(\"info\");\n    },\n    function(Bokeh) {\n    \n    \n    }\n  ];\n\n  function run_inline_js() {\n    \n    if (root.Bokeh !== undefined || force === true) {\n      \n    for (let i = 0; i < inline_js.length; i++) {\n      inline_js[i].call(root, root.Bokeh);\n    }\n    if (force === true) {\n        display_loaded();\n      }} else if (Date.now() < root._bokeh_timeout) {\n      setTimeout(run_inline_js, 100);\n    } else if (!root._bokeh_failed_load) {\n      console.log(\"Bokeh: BokehJS failed to load within specified timeout.\");\n      root._bokeh_failed_load = true;\n    } else if (force !== true) {\n      const cell = $(document.getElementById(\"1002\")).parents('.cell').data().cell;\n      cell.output_area.append_execute_result(NB_LOAD_WARNING)\n    }\n\n  }\n\n  if (root._bokeh_is_loading === 0) {\n    console.debug(\"Bokeh: BokehJS loaded, going straight to plotting\");\n    run_inline_js();\n  } else {\n    load_libs(css_urls, js_urls, function() {\n      console.debug(\"Bokeh: BokehJS plotting callback run at\", now());\n      run_inline_js();\n    });\n  }\n}(window));"
     },
     "metadata": {},
     "output_type": "display_data"
    }
   ],
   "source": [
    "import bokeh.models as bm\n",
    "import bokeh.plotting as pl\n",
    "from bokeh.io import output_notebook\n",
    "\n",
    "output_notebook()\n",
    "\n",
    "\n",
    "def draw_vectors(\n",
    "    x,\n",
    "    y,\n",
    "    radius=10,\n",
    "    alpha=0.25,\n",
    "    color=\"blue\",\n",
    "    width=600,\n",
    "    height=400,\n",
    "    show=True,\n",
    "    **kwargs\n",
    "):\n",
    "    \"\"\"draws an interactive plot for data points with auxilirary info on hover\"\"\"\n",
    "    data_source = bm.ColumnDataSource({\"x\": x, \"y\": y, \"color\": color, **kwargs})\n",
    "\n",
    "    fig = pl.figure(active_scroll=\"wheel_zoom\", width=width, height=height)\n",
    "    fig.scatter(\"x\", \"y\", size=radius, color=\"color\", alpha=alpha, source=data_source)\n",
    "\n",
    "    fig.add_tools(bm.HoverTool(tooltips=[(key, \"@\" + key) for key in kwargs.keys()]))\n",
    "    if show:\n",
    "        pl.show(fig)\n",
    "    return fig"
   ]
  },
  {
   "cell_type": "code",
   "execution_count": 20,
   "metadata": {
    "id": "7OONK8ldtIWe"
   },
   "outputs": [
    {
     "data": {
      "text/html": [
       "\n",
       "\n",
       "\n",
       "\n",
       "\n",
       "\n",
       "  <div class=\"bk-root\" id=\"a6cf7982-43e5-4340-ac5a-5a60ef22245e\" data-root-id=\"1004\"></div>\n"
      ]
     },
     "metadata": {},
     "output_type": "display_data"
    },
    {
     "data": {
      "application/javascript": [
       "(function(root) {\n",
       "  function embed_document(root) {\n",
       "    \n",
       "  const docs_json = {\"90a0d17c-5d6e-45fe-a546-00bd01197989\":{\"defs\":[],\"roots\":{\"references\":[{\"attributes\":{\"below\":[{\"id\":\"1013\"}],\"center\":[{\"id\":\"1016\"},{\"id\":\"1020\"}],\"height\":400,\"left\":[{\"id\":\"1017\"}],\"renderers\":[{\"id\":\"1039\"}],\"title\":{\"id\":\"1043\"},\"toolbar\":{\"id\":\"1028\"},\"x_range\":{\"id\":\"1005\"},\"x_scale\":{\"id\":\"1009\"},\"y_range\":{\"id\":\"1007\"},\"y_scale\":{\"id\":\"1011\"}},\"id\":\"1004\",\"subtype\":\"Figure\",\"type\":\"Plot\"},{\"attributes\":{},\"id\":\"1025\",\"type\":\"ResetTool\"},{\"attributes\":{},\"id\":\"1050\",\"type\":\"AllLabels\"},{\"attributes\":{\"source\":{\"id\":\"1003\"}},\"id\":\"1040\",\"type\":\"CDSView\"},{\"attributes\":{\"coordinates\":null,\"data_source\":{\"id\":\"1003\"},\"glyph\":{\"id\":\"1036\"},\"group\":null,\"hover_glyph\":null,\"muted_glyph\":{\"id\":\"1038\"},\"nonselection_glyph\":{\"id\":\"1037\"},\"view\":{\"id\":\"1040\"}},\"id\":\"1039\",\"type\":\"GlyphRenderer\"},{\"attributes\":{},\"id\":\"1024\",\"type\":\"SaveTool\"},{\"attributes\":{},\"id\":\"1049\",\"type\":\"BasicTickFormatter\"},{\"attributes\":{\"axis\":{\"id\":\"1017\"},\"coordinates\":null,\"dimension\":1,\"group\":null,\"ticker\":null},\"id\":\"1020\",\"type\":\"Grid\"},{\"attributes\":{},\"id\":\"1026\",\"type\":\"HelpTool\"},{\"attributes\":{},\"id\":\"1047\",\"type\":\"AllLabels\"},{\"attributes\":{},\"id\":\"1018\",\"type\":\"BasicTicker\"},{\"attributes\":{\"overlay\":{\"id\":\"1027\"}},\"id\":\"1023\",\"type\":\"BoxZoomTool\"},{\"attributes\":{},\"id\":\"1046\",\"type\":\"BasicTickFormatter\"},{\"attributes\":{\"coordinates\":null,\"group\":null},\"id\":\"1043\",\"type\":\"Title\"},{\"attributes\":{},\"id\":\"1051\",\"type\":\"UnionRenderers\"},{\"attributes\":{},\"id\":\"1052\",\"type\":\"Selection\"},{\"attributes\":{\"data\":{\"color\":[\"red\",\"red\",\"red\",\"blue\",\"red\",\"blue\",\"blue\",\"blue\",\"blue\",\"blue\",\"blue\",\"blue\",\"blue\",\"red\",\"red\",\"blue\",\"blue\",\"blue\",\"red\",\"blue\",\"blue\",\"blue\",\"blue\",\"red\",\"blue\",\"blue\",\"red\",\"red\",\"blue\",\"red\",\"blue\",\"red\",\"red\",\"blue\",\"red\",\"red\",\"blue\",\"red\",\"blue\",\"blue\",\"red\",\"blue\",\"blue\",\"blue\",\"red\",\"red\",\"red\",\"red\",\"blue\",\"red\",\"blue\",\"blue\",\"blue\",\"red\",\"blue\",\"red\",\"blue\",\"blue\",\"red\",\"red\",\"red\",\"blue\",\"blue\",\"red\",\"red\",\"blue\",\"blue\",\"red\",\"blue\",\"blue\",\"blue\",\"blue\",\"red\",\"red\",\"red\",\"red\",\"red\",\"blue\",\"red\",\"red\",\"blue\",\"blue\",\"red\",\"red\",\"blue\",\"red\",\"red\",\"red\",\"blue\",\"red\",\"red\",\"red\",\"red\",\"blue\",\"blue\",\"red\",\"red\",\"blue\",\"red\",\"red\",\"blue\",\"red\",\"blue\",\"red\",\"red\",\"red\",\"red\",\"blue\",\"red\",\"blue\",\"blue\",\"blue\",\"blue\",\"red\",\"red\",\"blue\",\"blue\",\"blue\",\"red\",\"blue\",\"red\",\"red\",\"red\",\"red\",\"blue\",\"blue\",\"red\",\"blue\",\"red\",\"blue\",\"blue\",\"blue\",\"red\",\"blue\",\"red\",\"blue\",\"red\",\"red\",\"blue\",\"red\",\"red\",\"blue\",\"red\",\"red\",\"blue\",\"red\",\"red\",\"blue\",\"blue\",\"blue\",\"blue\",\"red\",\"red\",\"red\",\"blue\",\"red\",\"red\",\"red\",\"blue\",\"red\",\"red\",\"red\",\"red\",\"red\",\"red\",\"blue\",\"blue\",\"red\",\"blue\",\"blue\",\"red\",\"red\",\"red\",\"blue\",\"red\",\"red\",\"blue\",\"red\",\"blue\",\"blue\",\"red\",\"blue\",\"red\",\"red\",\"blue\",\"blue\",\"blue\",\"blue\",\"blue\",\"red\",\"red\",\"red\",\"blue\",\"blue\",\"blue\",\"red\",\"red\",\"blue\",\"blue\",\"blue\",\"blue\",\"blue\",\"blue\",\"red\",\"red\",\"red\",\"red\",\"red\",\"red\",\"red\",\"red\",\"red\",\"blue\",\"blue\",\"blue\",\"red\",\"blue\",\"red\",\"blue\",\"blue\",\"red\",\"blue\",\"red\",\"blue\",\"blue\",\"red\",\"blue\",\"blue\",\"blue\",\"blue\",\"red\",\"blue\",\"red\",\"red\",\"red\",\"blue\",\"red\",\"blue\",\"red\",\"red\",\"red\",\"blue\",\"red\",\"blue\",\"red\",\"blue\",\"red\",\"blue\",\"red\",\"blue\",\"blue\",\"blue\",\"blue\",\"blue\",\"blue\",\"blue\",\"red\",\"red\",\"red\",\"red\",\"blue\",\"red\",\"red\",\"blue\",\"blue\",\"blue\",\"red\",\"red\",\"red\",\"red\",\"blue\",\"blue\",\"blue\",\"blue\",\"blue\",\"blue\",\"blue\",\"red\",\"blue\",\"red\",\"red\",\"red\",\"blue\",\"red\",\"red\",\"blue\",\"blue\",\"red\",\"blue\",\"blue\",\"red\",\"red\",\"blue\",\"red\",\"red\",\"blue\",\"blue\",\"red\",\"blue\",\"red\",\"red\",\"blue\",\"red\",\"red\",\"blue\",\"red\",\"blue\",\"blue\",\"red\",\"red\",\"blue\",\"blue\",\"blue\",\"red\",\"blue\",\"blue\",\"red\",\"red\",\"red\",\"blue\",\"blue\",\"red\",\"blue\",\"red\",\"red\",\"red\",\"red\",\"red\",\"blue\",\"blue\",\"red\",\"red\",\"red\",\"red\",\"red\",\"blue\",\"red\",\"red\",\"red\",\"blue\",\"blue\",\"blue\",\"blue\",\"blue\",\"red\",\"blue\",\"blue\",\"red\",\"red\",\"blue\",\"blue\",\"blue\",\"blue\",\"red\",\"blue\",\"blue\",\"blue\",\"blue\",\"red\",\"blue\",\"red\",\"blue\",\"red\",\"red\",\"blue\",\"blue\",\"blue\",\"red\",\"red\",\"blue\",\"red\",\"red\",\"red\",\"blue\",\"red\",\"blue\",\"blue\",\"blue\",\"red\",\"red\",\"red\",\"blue\",\"blue\",\"red\",\"blue\",\"blue\",\"red\",\"blue\",\"blue\",\"red\",\"blue\",\"blue\",\"red\",\"blue\",\"red\",\"red\",\"blue\",\"blue\",\"blue\",\"red\",\"blue\",\"blue\",\"blue\",\"red\",\"red\",\"blue\",\"blue\",\"blue\",\"red\",\"blue\",\"blue\",\"blue\",\"red\",\"blue\",\"blue\",\"blue\",\"blue\",\"red\",\"blue\",\"blue\",\"red\",\"red\",\"red\",\"blue\",\"blue\",\"blue\",\"red\",\"red\",\"blue\",\"blue\",\"blue\",\"red\",\"blue\",\"blue\",\"blue\",\"blue\",\"blue\",\"red\",\"red\",\"blue\",\"blue\",\"blue\",\"red\",\"red\",\"blue\",\"red\",\"red\",\"red\",\"blue\",\"red\",\"red\",\"blue\",\"red\",\"blue\",\"blue\",\"red\",\"blue\",\"blue\",\"red\",\"red\",\"blue\",\"blue\",\"blue\",\"blue\",\"red\",\"red\",\"red\",\"red\",\"blue\",\"blue\",\"blue\",\"red\",\"blue\",\"blue\",\"red\",\"blue\",\"red\",\"red\",\"blue\",\"red\",\"blue\",\"red\",\"red\",\"blue\",\"red\",\"blue\",\"blue\",\"blue\",\"red\",\"blue\",\"red\",\"blue\",\"blue\",\"blue\",\"blue\",\"blue\",\"red\",\"blue\",\"blue\",\"red\",\"blue\",\"red\",\"blue\",\"red\",\"blue\",\"red\",\"red\",\"red\",\"red\",\"red\",\"red\",\"blue\",\"blue\",\"blue\",\"red\",\"blue\",\"red\",\"red\",\"blue\",\"red\",\"red\",\"red\",\"red\",\"red\",\"red\",\"blue\",\"blue\",\"blue\",\"red\",\"blue\",\"red\",\"blue\",\"blue\",\"red\",\"red\",\"red\",\"blue\",\"red\",\"blue\",\"blue\",\"blue\",\"red\",\"blue\",\"blue\",\"red\",\"blue\",\"blue\",\"blue\",\"blue\",\"blue\",\"blue\",\"red\",\"red\",\"red\",\"blue\",\"blue\",\"red\",\"blue\",\"blue\",\"blue\",\"red\",\"blue\",\"red\",\"blue\",\"blue\",\"red\",\"red\",\"blue\",\"red\",\"red\",\"red\",\"blue\",\"red\",\"red\",\"blue\",\"red\",\"red\",\"blue\",\"blue\",\"blue\",\"red\",\"red\",\"red\",\"blue\",\"blue\",\"blue\",\"red\",\"red\",\"red\",\"red\",\"blue\",\"blue\",\"red\",\"red\",\"red\",\"red\",\"red\",\"red\",\"blue\",\"blue\",\"red\",\"red\",\"red\",\"blue\",\"red\",\"red\",\"red\",\"blue\",\"red\",\"red\",\"blue\",\"red\",\"red\",\"blue\",\"blue\",\"blue\",\"red\",\"blue\",\"blue\",\"blue\",\"red\",\"red\",\"red\",\"blue\",\"blue\",\"red\",\"red\",\"blue\",\"red\",\"blue\",\"blue\",\"blue\",\"red\",\"red\",\"blue\",\"red\",\"red\",\"blue\",\"red\",\"blue\",\"blue\",\"red\",\"red\",\"red\",\"red\",\"red\",\"red\",\"red\",\"red\",\"red\",\"blue\",\"blue\",\"blue\",\"red\",\"red\",\"blue\",\"blue\",\"blue\",\"red\",\"blue\",\"blue\",\"blue\",\"blue\",\"red\",\"blue\",\"red\",\"blue\",\"red\",\"red\",\"red\",\"blue\",\"red\",\"red\",\"red\",\"blue\",\"red\",\"blue\",\"blue\",\"blue\",\"red\",\"red\",\"red\",\"blue\",\"blue\",\"blue\",\"red\",\"red\",\"red\",\"blue\",\"red\",\"red\",\"red\",\"blue\",\"red\",\"blue\",\"red\",\"red\",\"blue\",\"red\",\"blue\",\"blue\",\"red\",\"red\",\"blue\",\"blue\",\"blue\",\"blue\",\"red\",\"blue\",\"blue\",\"red\",\"red\",\"red\",\"red\",\"blue\",\"blue\",\"red\",\"red\",\"red\",\"red\",\"red\",\"blue\",\"blue\",\"red\",\"red\",\"red\",\"blue\",\"blue\",\"blue\",\"blue\",\"blue\",\"red\",\"red\",\"red\",\"blue\",\"blue\",\"red\",\"red\",\"red\",\"red\",\"red\",\"blue\",\"blue\",\"blue\",\"red\",\"red\",\"red\",\"red\",\"red\",\"blue\",\"red\",\"red\",\"red\",\"blue\",\"red\",\"red\",\"red\",\"red\",\"red\",\"red\",\"red\",\"red\",\"red\",\"blue\",\"blue\",\"blue\",\"blue\",\"blue\",\"red\",\"blue\",\"blue\",\"red\",\"blue\",\"red\",\"red\",\"blue\",\"red\",\"red\",\"blue\",\"red\",\"blue\",\"red\",\"red\",\"red\",\"blue\",\"red\",\"blue\",\"blue\",\"blue\",\"red\",\"blue\",\"blue\",\"red\",\"blue\",\"blue\",\"blue\",\"blue\",\"red\",\"blue\",\"red\",\"red\",\"red\",\"red\",\"blue\",\"blue\",\"red\",\"red\",\"blue\",\"red\",\"red\",\"blue\",\"red\",\"blue\",\"red\",\"blue\",\"blue\",\"red\",\"blue\",\"blue\",\"blue\",\"red\",\"blue\",\"red\",\"blue\",\"blue\",\"red\",\"red\",\"red\",\"blue\",\"blue\",\"blue\",\"red\",\"blue\",\"red\",\"blue\",\"blue\",\"red\",\"blue\",\"blue\",\"blue\",\"red\",\"red\",\"red\",\"blue\",\"red\",\"red\",\"red\",\"blue\",\"red\",\"red\",\"blue\",\"red\",\"blue\",\"blue\",\"blue\",\"red\",\"blue\",\"blue\",\"red\",\"red\",\"red\",\"blue\",\"blue\",\"blue\",\"red\",\"blue\",\"red\",\"blue\",\"red\",\"red\",\"blue\",\"red\",\"red\",\"red\",\"blue\",\"blue\",\"blue\",\"red\",\"red\",\"red\",\"red\",\"red\",\"red\",\"blue\",\"red\",\"red\",\"blue\",\"red\",\"red\",\"blue\",\"red\",\"blue\",\"blue\",\"blue\",\"blue\",\"red\",\"blue\",\"blue\",\"blue\",\"blue\",\"red\",\"red\",\"blue\",\"blue\",\"red\",\"red\",\"red\",\"blue\",\"red\",\"red\",\"blue\",\"blue\",\"red\",\"red\",\"blue\",\"red\",\"red\",\"blue\",\"red\",\"red\",\"red\",\"blue\",\"blue\",\"red\",\"red\",\"red\",\"blue\",\"red\",\"blue\",\"red\",\"blue\",\"red\",\"blue\",\"red\",\"blue\",\"red\",\"red\",\"blue\",\"blue\",\"blue\",\"red\",\"red\",\"red\",\"red\",\"red\",\"red\",\"blue\",\"red\",\"blue\",\"red\",\"blue\",\"red\",\"blue\",\"blue\",\"blue\",\"red\",\"blue\",\"blue\",\"red\",\"blue\",\"blue\",\"blue\",\"red\",\"red\",\"red\",\"blue\",\"blue\",\"blue\",\"red\",\"red\",\"blue\",\"red\",\"red\",\"red\",\"red\",\"blue\",\"red\",\"red\",\"red\",\"red\",\"blue\",\"blue\",\"blue\",\"red\",\"blue\",\"red\",\"red\",\"blue\",\"red\",\"blue\",\"blue\",\"red\",\"red\",\"red\",\"blue\",\"blue\",\"blue\",\"blue\",\"red\",\"red\",\"blue\",\"blue\",\"red\",\"blue\",\"blue\",\"blue\",\"blue\",\"red\",\"blue\",\"red\",\"red\",\"blue\",\"blue\",\"blue\",\"blue\",\"blue\",\"red\",\"red\",\"red\",\"red\",\"blue\",\"red\",\"blue\",\"red\",\"blue\",\"red\",\"blue\",\"red\",\"blue\",\"red\",\"blue\",\"blue\",\"red\",\"blue\",\"red\",\"blue\",\"red\",\"blue\",\"blue\",\"blue\",\"red\",\"red\",\"blue\",\"red\",\"red\",\"blue\",\"blue\",\"blue\",\"red\",\"blue\",\"blue\",\"red\",\"red\",\"red\",\"blue\",\"red\",\"blue\",\"blue\",\"red\",\"red\",\"red\",\"blue\",\"red\",\"blue\",\"blue\",\"blue\",\"red\",\"blue\",\"red\",\"red\",\"red\",\"red\",\"red\",\"red\",\"blue\",\"red\",\"blue\",\"blue\",\"blue\",\"red\",\"blue\",\"red\",\"red\",\"blue\",\"blue\",\"red\",\"red\",\"blue\",\"red\",\"blue\",\"red\",\"red\",\"blue\",\"red\",\"red\",\"blue\",\"red\",\"red\",\"red\",\"blue\",\"blue\",\"blue\",\"red\",\"blue\",\"blue\",\"blue\",\"red\",\"blue\",\"red\",\"red\",\"blue\",\"red\",\"blue\",\"blue\",\"red\",\"blue\",\"red\",\"blue\",\"blue\",\"red\",\"blue\",\"blue\",\"red\",\"blue\",\"blue\",\"blue\",\"red\",\"red\",\"blue\",\"blue\",\"red\",\"blue\",\"red\",\"red\",\"red\",\"blue\",\"blue\",\"blue\",\"red\",\"blue\",\"blue\",\"blue\",\"red\",\"blue\",\"blue\",\"blue\",\"blue\",\"blue\",\"red\",\"blue\",\"blue\",\"red\",\"red\",\"blue\",\"red\",\"red\",\"red\",\"blue\",\"blue\",\"blue\",\"red\",\"blue\",\"blue\",\"blue\",\"red\",\"red\",\"red\",\"red\",\"red\",\"blue\",\"blue\",\"red\",\"blue\",\"red\",\"blue\",\"blue\",\"blue\",\"red\",\"red\",\"red\",\"blue\",\"blue\",\"red\",\"red\",\"blue\",\"red\",\"blue\",\"blue\",\"red\",\"blue\",\"blue\",\"red\",\"red\",\"red\",\"red\",\"red\",\"red\",\"blue\",\"red\",\"red\",\"blue\",\"blue\",\"red\",\"blue\",\"blue\",\"blue\",\"red\",\"blue\",\"blue\",\"blue\",\"blue\",\"blue\",\"red\",\"red\",\"red\",\"red\",\"red\",\"red\",\"blue\",\"blue\",\"red\",\"red\",\"red\",\"blue\",\"red\",\"blue\",\"blue\",\"red\",\"blue\",\"blue\",\"red\",\"blue\",\"red\",\"red\",\"blue\",\"red\",\"red\",\"blue\",\"blue\",\"blue\",\"red\",\"red\",\"red\",\"blue\",\"blue\",\"red\",\"blue\",\"blue\",\"blue\",\"red\",\"red\",\"red\",\"blue\",\"red\",\"red\",\"red\",\"blue\",\"blue\",\"red\",\"blue\",\"blue\",\"blue\",\"blue\",\"blue\",\"blue\",\"blue\",\"blue\",\"blue\",\"red\",\"blue\",\"red\",\"red\",\"blue\",\"blue\",\"red\",\"red\",\"blue\",\"blue\",\"blue\",\"red\"],\"x\":{\"__ndarray__\":\"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\",\"dtype\":\"float64\",\"order\":\"little\",\"shape\":[1280]},\"y\":{\"__ndarray__\":\"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\",\"dtype\":\"float64\",\"order\":\"little\",\"shape\":[1280]}},\"selected\":{\"id\":\"1052\"},\"selection_policy\":{\"id\":\"1051\"}},\"id\":\"1003\",\"type\":\"ColumnDataSource\"},{\"attributes\":{\"active_scroll\":{\"id\":\"1022\"},\"tools\":[{\"id\":\"1021\"},{\"id\":\"1022\"},{\"id\":\"1023\"},{\"id\":\"1024\"},{\"id\":\"1025\"},{\"id\":\"1026\"},{\"id\":\"1041\"}]},\"id\":\"1028\",\"type\":\"Toolbar\"},{\"attributes\":{},\"id\":\"1014\",\"type\":\"BasicTicker\"},{\"attributes\":{},\"id\":\"1021\",\"type\":\"PanTool\"},{\"attributes\":{\"bottom_units\":\"screen\",\"coordinates\":null,\"fill_alpha\":0.5,\"fill_color\":\"lightgrey\",\"group\":null,\"left_units\":\"screen\",\"level\":\"overlay\",\"line_alpha\":1.0,\"line_color\":\"black\",\"line_dash\":[4,4],\"line_width\":2,\"right_units\":\"screen\",\"syncable\":false,\"top_units\":\"screen\"},\"id\":\"1027\",\"type\":\"BoxAnnotation\"},{\"attributes\":{},\"id\":\"1009\",\"type\":\"LinearScale\"},{\"attributes\":{\"fill_alpha\":{\"value\":0.2},\"fill_color\":{\"field\":\"color\"},\"hatch_alpha\":{\"value\":0.2},\"hatch_color\":{\"field\":\"color\"},\"line_alpha\":{\"value\":0.2},\"line_color\":{\"field\":\"color\"},\"size\":{\"value\":10},\"x\":{\"field\":\"x\"},\"y\":{\"field\":\"y\"}},\"id\":\"1038\",\"type\":\"Scatter\"},{\"attributes\":{},\"id\":\"1022\",\"type\":\"WheelZoomTool\"},{\"attributes\":{\"fill_alpha\":{\"value\":0.25},\"fill_color\":{\"field\":\"color\"},\"hatch_alpha\":{\"value\":0.25},\"hatch_color\":{\"field\":\"color\"},\"line_alpha\":{\"value\":0.25},\"line_color\":{\"field\":\"color\"},\"size\":{\"value\":10},\"x\":{\"field\":\"x\"},\"y\":{\"field\":\"y\"}},\"id\":\"1036\",\"type\":\"Scatter\"},{\"attributes\":{\"coordinates\":null,\"formatter\":{\"id\":\"1049\"},\"group\":null,\"major_label_policy\":{\"id\":\"1050\"},\"ticker\":{\"id\":\"1014\"}},\"id\":\"1013\",\"type\":\"LinearAxis\"},{\"attributes\":{\"coordinates\":null,\"formatter\":{\"id\":\"1046\"},\"group\":null,\"major_label_policy\":{\"id\":\"1047\"},\"ticker\":{\"id\":\"1018\"}},\"id\":\"1017\",\"type\":\"LinearAxis\"},{\"attributes\":{\"fill_alpha\":{\"value\":0.1},\"fill_color\":{\"field\":\"color\"},\"hatch_alpha\":{\"value\":0.1},\"hatch_color\":{\"field\":\"color\"},\"line_alpha\":{\"value\":0.1},\"line_color\":{\"field\":\"color\"},\"size\":{\"value\":10},\"x\":{\"field\":\"x\"},\"y\":{\"field\":\"y\"}},\"id\":\"1037\",\"type\":\"Scatter\"},{\"attributes\":{},\"id\":\"1007\",\"type\":\"DataRange1d\"},{\"attributes\":{},\"id\":\"1005\",\"type\":\"DataRange1d\"},{\"attributes\":{},\"id\":\"1011\",\"type\":\"LinearScale\"},{\"attributes\":{\"callback\":null,\"tooltips\":[]},\"id\":\"1041\",\"type\":\"HoverTool\"},{\"attributes\":{\"axis\":{\"id\":\"1013\"},\"coordinates\":null,\"group\":null,\"ticker\":null},\"id\":\"1016\",\"type\":\"Grid\"}],\"root_ids\":[\"1004\"]},\"title\":\"Bokeh Application\",\"version\":\"2.4.2\"}};\n",
       "  const render_items = [{\"docid\":\"90a0d17c-5d6e-45fe-a546-00bd01197989\",\"root_ids\":[\"1004\"],\"roots\":{\"1004\":\"a6cf7982-43e5-4340-ac5a-5a60ef22245e\"}}];\n",
       "  root.Bokeh.embed.embed_items_notebook(docs_json, render_items);\n",
       "\n",
       "  }\n",
       "  if (root.Bokeh !== undefined) {\n",
       "    embed_document(root);\n",
       "  } else {\n",
       "    let attempts = 0;\n",
       "    const timer = setInterval(function(root) {\n",
       "      if (root.Bokeh !== undefined) {\n",
       "        clearInterval(timer);\n",
       "        embed_document(root);\n",
       "      } else {\n",
       "        attempts++;\n",
       "        if (attempts > 100) {\n",
       "          clearInterval(timer);\n",
       "          console.log(\"Bokeh: ERROR: Unable to run BokehJS code because BokehJS library is missing\");\n",
       "        }\n",
       "      }\n",
       "    }, 10, root)\n",
       "  }\n",
       "})(window);"
      ],
      "application/vnd.bokehjs_exec.v0+json": ""
     },
     "metadata": {
      "application/vnd.bokehjs_exec.v0+json": {
       "id": "1004"
      }
     },
     "output_type": "display_data"
    },
    {
     "data": {
      "text/html": [
       "<div style=\"display: table;\"><div style=\"display: table-row;\"><div style=\"display: table-cell;\"><b title=\"bokeh.plotting.figure.Figure\">Figure</b>(</div><div style=\"display: table-cell;\">id&nbsp;=&nbsp;'1004', <span id=\"1110\" style=\"cursor: pointer;\">&hellip;)</span></div></div><div class=\"1109\" style=\"display: none;\"><div style=\"display: table-cell;\"></div><div style=\"display: table-cell;\">above&nbsp;=&nbsp;[],</div></div><div class=\"1109\" style=\"display: none;\"><div style=\"display: table-cell;\"></div><div style=\"display: table-cell;\">align&nbsp;=&nbsp;'start',</div></div><div class=\"1109\" style=\"display: none;\"><div style=\"display: table-cell;\"></div><div style=\"display: table-cell;\">aspect_ratio&nbsp;=&nbsp;None,</div></div><div class=\"1109\" style=\"display: none;\"><div style=\"display: table-cell;\"></div><div style=\"display: table-cell;\">aspect_scale&nbsp;=&nbsp;1,</div></div><div class=\"1109\" style=\"display: none;\"><div style=\"display: table-cell;\"></div><div style=\"display: table-cell;\">background&nbsp;=&nbsp;None,</div></div><div class=\"1109\" style=\"display: none;\"><div style=\"display: table-cell;\"></div><div style=\"display: table-cell;\">background_fill_alpha&nbsp;=&nbsp;1.0,</div></div><div class=\"1109\" style=\"display: none;\"><div style=\"display: table-cell;\"></div><div style=\"display: table-cell;\">background_fill_color&nbsp;=&nbsp;'#ffffff',</div></div><div class=\"1109\" style=\"display: none;\"><div style=\"display: table-cell;\"></div><div style=\"display: table-cell;\">below&nbsp;=&nbsp;[LinearAxis(id='1013', ...)],</div></div><div class=\"1109\" style=\"display: none;\"><div style=\"display: table-cell;\"></div><div style=\"display: table-cell;\">border_fill_alpha&nbsp;=&nbsp;1.0,</div></div><div class=\"1109\" style=\"display: none;\"><div style=\"display: table-cell;\"></div><div style=\"display: table-cell;\">border_fill_color&nbsp;=&nbsp;'#ffffff',</div></div><div class=\"1109\" style=\"display: none;\"><div style=\"display: table-cell;\"></div><div style=\"display: table-cell;\">center&nbsp;=&nbsp;[Grid(id='1016', ...), Grid(id='1020', ...)],</div></div><div class=\"1109\" style=\"display: none;\"><div style=\"display: table-cell;\"></div><div style=\"display: table-cell;\">css_classes&nbsp;=&nbsp;[],</div></div><div class=\"1109\" style=\"display: none;\"><div style=\"display: table-cell;\"></div><div style=\"display: table-cell;\">disabled&nbsp;=&nbsp;False,</div></div><div class=\"1109\" style=\"display: none;\"><div style=\"display: table-cell;\"></div><div style=\"display: table-cell;\">extra_x_ranges&nbsp;=&nbsp;{},</div></div><div class=\"1109\" style=\"display: none;\"><div style=\"display: table-cell;\"></div><div style=\"display: table-cell;\">extra_x_scales&nbsp;=&nbsp;{},</div></div><div class=\"1109\" style=\"display: none;\"><div style=\"display: table-cell;\"></div><div style=\"display: table-cell;\">extra_y_ranges&nbsp;=&nbsp;{},</div></div><div class=\"1109\" style=\"display: none;\"><div style=\"display: table-cell;\"></div><div style=\"display: table-cell;\">extra_y_scales&nbsp;=&nbsp;{},</div></div><div class=\"1109\" style=\"display: none;\"><div style=\"display: table-cell;\"></div><div style=\"display: table-cell;\">frame_height&nbsp;=&nbsp;None,</div></div><div class=\"1109\" style=\"display: none;\"><div style=\"display: table-cell;\"></div><div style=\"display: table-cell;\">frame_width&nbsp;=&nbsp;None,</div></div><div class=\"1109\" style=\"display: none;\"><div style=\"display: table-cell;\"></div><div style=\"display: table-cell;\">height&nbsp;=&nbsp;400,</div></div><div class=\"1109\" style=\"display: none;\"><div style=\"display: table-cell;\"></div><div style=\"display: table-cell;\">height_policy&nbsp;=&nbsp;'auto',</div></div><div class=\"1109\" style=\"display: none;\"><div style=\"display: table-cell;\"></div><div style=\"display: table-cell;\">hidpi&nbsp;=&nbsp;True,</div></div><div class=\"1109\" style=\"display: none;\"><div style=\"display: table-cell;\"></div><div style=\"display: table-cell;\">inner_height&nbsp;=&nbsp;0,</div></div><div class=\"1109\" style=\"display: none;\"><div style=\"display: table-cell;\"></div><div style=\"display: table-cell;\">inner_width&nbsp;=&nbsp;0,</div></div><div class=\"1109\" style=\"display: none;\"><div style=\"display: table-cell;\"></div><div style=\"display: table-cell;\">js_event_callbacks&nbsp;=&nbsp;{},</div></div><div class=\"1109\" style=\"display: none;\"><div style=\"display: table-cell;\"></div><div style=\"display: table-cell;\">js_property_callbacks&nbsp;=&nbsp;{},</div></div><div class=\"1109\" style=\"display: none;\"><div style=\"display: table-cell;\"></div><div style=\"display: table-cell;\">left&nbsp;=&nbsp;[LinearAxis(id='1017', ...)],</div></div><div class=\"1109\" style=\"display: none;\"><div style=\"display: table-cell;\"></div><div style=\"display: table-cell;\">lod_factor&nbsp;=&nbsp;10,</div></div><div class=\"1109\" style=\"display: none;\"><div style=\"display: table-cell;\"></div><div style=\"display: table-cell;\">lod_interval&nbsp;=&nbsp;300,</div></div><div class=\"1109\" style=\"display: none;\"><div style=\"display: table-cell;\"></div><div style=\"display: table-cell;\">lod_threshold&nbsp;=&nbsp;2000,</div></div><div class=\"1109\" style=\"display: none;\"><div style=\"display: table-cell;\"></div><div style=\"display: table-cell;\">lod_timeout&nbsp;=&nbsp;500,</div></div><div class=\"1109\" style=\"display: none;\"><div style=\"display: table-cell;\"></div><div style=\"display: table-cell;\">margin&nbsp;=&nbsp;(0, 0, 0, 0),</div></div><div class=\"1109\" style=\"display: none;\"><div style=\"display: table-cell;\"></div><div style=\"display: table-cell;\">match_aspect&nbsp;=&nbsp;False,</div></div><div class=\"1109\" style=\"display: none;\"><div style=\"display: table-cell;\"></div><div style=\"display: table-cell;\">max_height&nbsp;=&nbsp;None,</div></div><div class=\"1109\" style=\"display: none;\"><div style=\"display: table-cell;\"></div><div style=\"display: table-cell;\">max_width&nbsp;=&nbsp;None,</div></div><div class=\"1109\" style=\"display: none;\"><div style=\"display: table-cell;\"></div><div style=\"display: table-cell;\">min_border&nbsp;=&nbsp;5,</div></div><div class=\"1109\" style=\"display: none;\"><div style=\"display: table-cell;\"></div><div style=\"display: table-cell;\">min_border_bottom&nbsp;=&nbsp;None,</div></div><div class=\"1109\" style=\"display: none;\"><div style=\"display: table-cell;\"></div><div style=\"display: table-cell;\">min_border_left&nbsp;=&nbsp;None,</div></div><div class=\"1109\" style=\"display: none;\"><div style=\"display: table-cell;\"></div><div style=\"display: table-cell;\">min_border_right&nbsp;=&nbsp;None,</div></div><div class=\"1109\" style=\"display: none;\"><div style=\"display: table-cell;\"></div><div style=\"display: table-cell;\">min_border_top&nbsp;=&nbsp;None,</div></div><div class=\"1109\" style=\"display: none;\"><div style=\"display: table-cell;\"></div><div style=\"display: table-cell;\">min_height&nbsp;=&nbsp;None,</div></div><div class=\"1109\" style=\"display: none;\"><div style=\"display: table-cell;\"></div><div style=\"display: table-cell;\">min_width&nbsp;=&nbsp;None,</div></div><div class=\"1109\" style=\"display: none;\"><div style=\"display: table-cell;\"></div><div style=\"display: table-cell;\">name&nbsp;=&nbsp;None,</div></div><div class=\"1109\" style=\"display: none;\"><div style=\"display: table-cell;\"></div><div style=\"display: table-cell;\">outer_height&nbsp;=&nbsp;0,</div></div><div class=\"1109\" style=\"display: none;\"><div style=\"display: table-cell;\"></div><div style=\"display: table-cell;\">outer_width&nbsp;=&nbsp;0,</div></div><div class=\"1109\" style=\"display: none;\"><div style=\"display: table-cell;\"></div><div style=\"display: table-cell;\">outline_line_alpha&nbsp;=&nbsp;1.0,</div></div><div class=\"1109\" style=\"display: none;\"><div style=\"display: table-cell;\"></div><div style=\"display: table-cell;\">outline_line_cap&nbsp;=&nbsp;'butt',</div></div><div class=\"1109\" style=\"display: none;\"><div style=\"display: table-cell;\"></div><div style=\"display: table-cell;\">outline_line_color&nbsp;=&nbsp;'#e5e5e5',</div></div><div class=\"1109\" style=\"display: none;\"><div style=\"display: table-cell;\"></div><div style=\"display: table-cell;\">outline_line_dash&nbsp;=&nbsp;[],</div></div><div class=\"1109\" style=\"display: none;\"><div style=\"display: table-cell;\"></div><div style=\"display: table-cell;\">outline_line_dash_offset&nbsp;=&nbsp;0,</div></div><div class=\"1109\" style=\"display: none;\"><div style=\"display: table-cell;\"></div><div style=\"display: table-cell;\">outline_line_join&nbsp;=&nbsp;'bevel',</div></div><div class=\"1109\" style=\"display: none;\"><div style=\"display: table-cell;\"></div><div style=\"display: table-cell;\">outline_line_width&nbsp;=&nbsp;1,</div></div><div class=\"1109\" style=\"display: none;\"><div style=\"display: table-cell;\"></div><div style=\"display: table-cell;\">output_backend&nbsp;=&nbsp;'canvas',</div></div><div class=\"1109\" style=\"display: none;\"><div style=\"display: table-cell;\"></div><div style=\"display: table-cell;\">renderers&nbsp;=&nbsp;[GlyphRenderer(id='1039', ...)],</div></div><div class=\"1109\" style=\"display: none;\"><div style=\"display: table-cell;\"></div><div style=\"display: table-cell;\">reset_policy&nbsp;=&nbsp;'standard',</div></div><div class=\"1109\" style=\"display: none;\"><div style=\"display: table-cell;\"></div><div style=\"display: table-cell;\">right&nbsp;=&nbsp;[],</div></div><div class=\"1109\" style=\"display: none;\"><div style=\"display: table-cell;\"></div><div style=\"display: table-cell;\">sizing_mode&nbsp;=&nbsp;None,</div></div><div class=\"1109\" style=\"display: none;\"><div style=\"display: table-cell;\"></div><div style=\"display: table-cell;\">subscribed_events&nbsp;=&nbsp;[],</div></div><div class=\"1109\" style=\"display: none;\"><div style=\"display: table-cell;\"></div><div style=\"display: table-cell;\">syncable&nbsp;=&nbsp;True,</div></div><div class=\"1109\" style=\"display: none;\"><div style=\"display: table-cell;\"></div><div style=\"display: table-cell;\">tags&nbsp;=&nbsp;[],</div></div><div class=\"1109\" style=\"display: none;\"><div style=\"display: table-cell;\"></div><div style=\"display: table-cell;\">title&nbsp;=&nbsp;Title(id='1043', ...),</div></div><div class=\"1109\" style=\"display: none;\"><div style=\"display: table-cell;\"></div><div style=\"display: table-cell;\">title_location&nbsp;=&nbsp;'above',</div></div><div class=\"1109\" style=\"display: none;\"><div style=\"display: table-cell;\"></div><div style=\"display: table-cell;\">toolbar&nbsp;=&nbsp;Toolbar(id='1028', ...),</div></div><div class=\"1109\" style=\"display: none;\"><div style=\"display: table-cell;\"></div><div style=\"display: table-cell;\">toolbar_location&nbsp;=&nbsp;'right',</div></div><div class=\"1109\" style=\"display: none;\"><div style=\"display: table-cell;\"></div><div style=\"display: table-cell;\">toolbar_sticky&nbsp;=&nbsp;True,</div></div><div class=\"1109\" style=\"display: none;\"><div style=\"display: table-cell;\"></div><div style=\"display: table-cell;\">visible&nbsp;=&nbsp;True,</div></div><div class=\"1109\" style=\"display: none;\"><div style=\"display: table-cell;\"></div><div style=\"display: table-cell;\">width&nbsp;=&nbsp;600,</div></div><div class=\"1109\" style=\"display: none;\"><div style=\"display: table-cell;\"></div><div style=\"display: table-cell;\">width_policy&nbsp;=&nbsp;'auto',</div></div><div class=\"1109\" style=\"display: none;\"><div style=\"display: table-cell;\"></div><div style=\"display: table-cell;\">x_range&nbsp;=&nbsp;DataRange1d(id='1005', ...),</div></div><div class=\"1109\" style=\"display: none;\"><div style=\"display: table-cell;\"></div><div style=\"display: table-cell;\">x_scale&nbsp;=&nbsp;LinearScale(id='1009', ...),</div></div><div class=\"1109\" style=\"display: none;\"><div style=\"display: table-cell;\"></div><div style=\"display: table-cell;\">y_range&nbsp;=&nbsp;DataRange1d(id='1007', ...),</div></div><div class=\"1109\" style=\"display: none;\"><div style=\"display: table-cell;\"></div><div style=\"display: table-cell;\">y_scale&nbsp;=&nbsp;LinearScale(id='1011', ...))</div></div></div>\n",
       "<script>\n",
       "(function() {\n",
       "  let expanded = false;\n",
       "  const ellipsis = document.getElementById(\"1110\");\n",
       "  ellipsis.addEventListener(\"click\", function() {\n",
       "    const rows = document.getElementsByClassName(\"1109\");\n",
       "    for (let i = 0; i < rows.length; i++) {\n",
       "      const el = rows[i];\n",
       "      el.style.display = expanded ? \"none\" : \"table-row\";\n",
       "    }\n",
       "    ellipsis.innerHTML = expanded ? \"&hellip;)\" : \"&lsaquo;&lsaquo;&lsaquo;\";\n",
       "    expanded = !expanded;\n",
       "  });\n",
       "})();\n",
       "</script>\n"
      ],
      "text/plain": [
       "Figure(id='1004', ...)"
      ]
     },
     "execution_count": 20,
     "metadata": {},
     "output_type": "execute_result"
    }
   ],
   "source": [
    "draw_vectors(\n",
    "    examples[\"transformed_features\"][:, 0],\n",
    "    examples[\"transformed_features\"][:, 1],\n",
    "    color=[[\"red\", \"blue\"][t] for t in examples[\"targets\"]],\n",
    ")"
   ]
  },
  {
   "cell_type": "markdown",
   "metadata": {
    "id": "0fNF6LRQ9MPI"
   },
   "source": [
    "Скорее всего, на визуализации нет четкого разделения твитов между классами. Это значит, что по полученным нами векторам твитов не так-то просто определить, к какому классу твит пренадлежит. Значит, обычный линейный классификатор не очень хорошо справится с задачей. Надо будет делать глубокую (хотя бы два слоя) нейронную сеть.\n",
    "\n",
    "Подготовим загрузчики данных.\n",
    "Усреднее векторов будем делать в \"батчевалке\"(`collate_fn`). Она используется для того, чтобы собирать из данных `torch.Tensor` батчи, которые можно отправлять в модель.\n"
   ]
  },
  {
   "cell_type": "code",
   "execution_count": 21,
   "metadata": {
    "id": "y1XapsADtITv"
   },
   "outputs": [],
   "source": [
    "batch_size = 1024\n",
    "num_workers = 8\n",
    "\n",
    "\n",
    "def average_emb(batch):\n",
    "    features = [np.mean(b[\"feature\"], axis=0) for b in batch]\n",
    "    targets = [b[\"target\"] for b in batch]\n",
    "\n",
    "    return {\n",
    "        \"features\": torch.FloatTensor(features),\n",
    "        \"targets\": torch.LongTensor(targets),\n",
    "    }\n",
    "\n",
    "\n",
    "train_size = math.ceil(len(dev) * 0.8)\n",
    "\n",
    "train, valid = random_split(dev, [train_size, len(dev) - train_size])\n",
    "\n",
    "train_loader = DataLoader(\n",
    "    train,\n",
    "    batch_size=batch_size,\n",
    "    num_workers=num_workers,\n",
    "    shuffle=True,\n",
    "    drop_last=True,\n",
    "    collate_fn=average_emb,\n",
    ")\n",
    "valid_loader = DataLoader(\n",
    "    valid,\n",
    "    batch_size=batch_size,\n",
    "    num_workers=num_workers,\n",
    "    shuffle=False,\n",
    "    drop_last=False,\n",
    "    collate_fn=average_emb,\n",
    ")"
   ]
  },
  {
   "cell_type": "code",
   "execution_count": 47,
   "metadata": {},
   "outputs": [],
   "source": [
    "train_loader = DataLoader(\n",
    "    train,\n",
    "    batch_size=16,\n",
    "    num_workers=0,\n",
    "    shuffle=True,\n",
    "    drop_last=True,\n",
    "    collate_fn=average_emb,\n",
    ")"
   ]
  },
  {
   "cell_type": "code",
   "execution_count": 48,
   "metadata": {},
   "outputs": [
    {
     "data": {
      "text/plain": [
       "torch.utils.data.dataloader.DataLoader"
      ]
     },
     "execution_count": 48,
     "metadata": {},
     "output_type": "execute_result"
    }
   ],
   "source": [
    "type(train_loader)"
   ]
  },
  {
   "cell_type": "code",
   "execution_count": 53,
   "metadata": {},
   "outputs": [
    {
     "data": {
      "text/plain": [
       "{'features': tensor([[-2.1810e-02, -3.8839e-02,  1.0010e-01,  ..., -1.3704e-01,\n",
       "          -4.1097e-02,  2.8158e-02],\n",
       "         [ 3.8123e-02,  1.6433e-02,  2.8077e-02,  ..., -3.0415e-02,\n",
       "          -7.4369e-02, -2.4884e-03],\n",
       "         [ 5.4042e-04, -2.6436e-02,  4.0649e-02,  ..., -5.9265e-02,\n",
       "          -3.3946e-02, -6.5531e-02],\n",
       "         ...,\n",
       "         [ 3.9526e-02,  5.3058e-02, -3.4814e-02,  ...,  8.1055e-03,\n",
       "           1.5723e-02, -4.7266e-02],\n",
       "         [ 6.3023e-02,  4.3597e-06,  2.6197e-02,  ..., -2.5153e-02,\n",
       "          -6.4122e-02, -6.4471e-02],\n",
       "         [-9.0179e-03,  4.2578e-02, -9.3555e-02,  ..., -2.0215e-02,\n",
       "           1.3086e-02, -1.2378e-02]]),\n",
       " 'targets': tensor([1, 0, 1, 0, 1, 1, 1, 1, 0, 1, 1, 0, 1, 0, 1, 0])}"
      ]
     },
     "execution_count": 53,
     "metadata": {},
     "output_type": "execute_result"
    }
   ],
   "source": [
    "next(iter(train_loader))"
   ]
  },
  {
   "cell_type": "markdown",
   "metadata": {
    "id": "p-zs0WEK-Vkt"
   },
   "source": [
    "Определим функции для тренировки и теста модели:"
   ]
  },
  {
   "cell_type": "code",
   "execution_count": 76,
   "metadata": {
    "id": "U--T2Gjw1r27"
   },
   "outputs": [],
   "source": [
    "from tqdm.notebook import tqdm\n",
    "\n",
    "\n",
    "def training(model, optimizer, loss_fn, train_loader, epoch, device=\"cpu\"):\n",
    "    pbar = tqdm(train_loader, desc=f\"Epoch {e + 1}. Train Loss: {0}\")\n",
    "    model.train()\n",
    "    for batch in pbar:\n",
    "        features = batch[\"features\"].to(device)\n",
    "        targets = batch[\"targets\"].to(device)\n",
    "\n",
    "        # Получи предсказания модели\n",
    "        pred = model(features)\n",
    "        loss = loss_fn(pred, targets)  # Посчитай лосс\n",
    "        # Обнови параметры модели\n",
    "        optimizer.zero_grad()\n",
    "        loss.backward()\n",
    "        optimizer.step()\n",
    "\n",
    "        pbar.set_description(f\"Epoch {e + 1}. Train Loss: {loss:.4}\")\n",
    "\n",
    "\n",
    "def testing(model, loss_fn, test_loader, device=\"cpu\"):\n",
    "    pbar = tqdm(test_loader, desc=f\"Test Loss: {0}, Test Acc: {0}\")\n",
    "    mean_loss = 0\n",
    "    mean_acc = 0\n",
    "    model.eval()\n",
    "    with torch.no_grad():\n",
    "        for batch in pbar:\n",
    "            features = batch[\"features\"].to(device)\n",
    "            targets = batch[\"targets\"].to(device)\n",
    "\n",
    "            # Получи предсказания модели\n",
    "            pred = model(features)\n",
    "            loss = loss_fn(pred, targets)  # Посчитай лосс\n",
    "            acc = (\n",
    "                (pred.argmax(1) == y).type(torch.float).sum()\n",
    "            )  \n",
    "            # Посчитай точность модели\n",
    "\n",
    "            mean_loss += loss.item()\n",
    "            mean_acc += acc.item()\n",
    "\n",
    "            pbar.set_description(f\"Test Loss: {loss:.4}, Test Acc: {acc:.4}\")\n",
    "\n",
    "    pbar.set_description(\n",
    "        f\"Test Loss: {mean_loss / len(test_loader):.4}, Test Acc: {mean_acc / len(test_loader):.4}\"\n",
    "    )\n",
    "\n",
    "    return {\n",
    "        \"Test Loss\": mean_loss / len(test_loader),\n",
    "        \"Test Acc\": mean_acc / len(test_loader),\n",
    "    }"
   ]
  },
  {
   "cell_type": "markdown",
   "metadata": {
    "id": "oVg_XBBb-YBH"
   },
   "source": [
    "Создадим модель, оптимизатор и целевую функцию. Вы можете сами выбрать количество слоев в нейронной сети, ваш любимый оптимизатор и целевую функцию."
   ]
  },
  {
   "cell_type": "code",
   "execution_count": null,
   "metadata": {},
   "outputs": [],
   "source": [
    "class TextEncoder(nn.Module):\n",
    "    def __init__(self, in_dim, out_dim, hid_size=64):\n",
    "        \"\"\" \n",
    "        A simple sequential encoder for titles.\n",
    "        x -> emb -> conv -> relu -> global_max\n",
    "        \"\"\"\n",
    "        super().__init__()\n",
    "        self.relu = nn.ReLU()\n",
    "        # self.emb = nn.Embedding(n_tokens, 32, padding_idx=PAD_IX)\n",
    "        self.conv1 = nn.Conv1d(32, hid_size, kernel_size=3, padding=1)\n",
    "        self.pool1 = GlobalMaxPooling()\n",
    "\n",
    "    def forward(self, batch):\n",
    "        # YOUR CODE HERE\n",
    "\n",
    "        x = self.emb(batch)\n",
    "\n",
    "        # we transpose from [batch, time, units] to [batch, units, time] to fit Conv1d dim order\n",
    "        x = torch.transpose(x, 1, 2)\n",
    "\n",
    "        c = self.conv1(x)\n",
    "        p = self.pool1(self.relu(c))\n",
    "\n",
    "        return p\n"
   ]
  },
  {
   "cell_type": "code",
   "execution_count": 56,
   "metadata": {
    "id": "EBoZ4F3Fx1Hm"
   },
   "outputs": [
    {
     "ename": "SyntaxError",
     "evalue": "invalid syntax (3235869521.py, line 9)",
     "output_type": "error",
     "traceback": [
      "\u001b[1;36m  Input \u001b[1;32mIn [56]\u001b[1;36m\u001b[0m\n\u001b[1;33m    model = # Твоя модель\u001b[0m\n\u001b[1;37m            ^\u001b[0m\n\u001b[1;31mSyntaxError\u001b[0m\u001b[1;31m:\u001b[0m invalid syntax\n"
     ]
    }
   ],
   "source": [
    "# Не забудь поиграться с параметрами ;)\n",
    "vector_size = dev.word2vec.vector_size\n",
    "num_classes = 2\n",
    "lr = 1e-2\n",
    "num_epochs = 1\n",
    "\n",
    "device = \"cuda\" if torch.cuda.is_available else \"cpu\"\n",
    "\n",
    "model = TextEncoder(in_dim=vector_size, out_dim=num_classes)  # Твоя модель\n",
    "model = model.to(device)\n",
    "criterion = nn.CrossEntropyLoss()  # Твой лосс\n",
    "optimizer = Adam(model.parameters(), lr=lr)"
   ]
  },
  {
   "cell_type": "markdown",
   "metadata": {
    "id": "-AitU8AR-zBj"
   },
   "source": [
    "Наконец, обучим модель и протестируем её.\n",
    "\n",
    "После каждой эпохи будем проверять качество модели на валидационной части датасета. Если метрика стала лучше, будем сохранять модель.  \n",
    "**Подумайте, какая метрика (точность или лосс) будет лучше работать в этой задаче?** "
   ]
  },
  {
   "cell_type": "code",
   "execution_count": null,
   "metadata": {
    "id": "gKhk71Pmx1F1"
   },
   "outputs": [],
   "source": [
    "best_metric = np.inf\n",
    "for e in range(num_epochs):\n",
    "    training(model, optimizer, criterion, train_loader, e, device)\n",
    "    log = testing(model, criterion, valid_loader, device)\n",
    "    print(log)\n",
    "    if log[\"Test Loss\"] < best_metric:\n",
    "        torch.save(model.state_dict(), \"model.pt\")\n",
    "        best_metric = log[\"Test Loss\"]"
   ]
  },
  {
   "cell_type": "code",
   "execution_count": null,
   "metadata": {
    "id": "di4dGwD4x1Dt"
   },
   "outputs": [],
   "source": [
    "test_loader = DataLoader(\n",
    "    TwitterDataset(test_data, \"text\", \"emotion\", word2vec),\n",
    "    batch_size=batch_size,\n",
    "    num_workers=num_workers,\n",
    "    shuffle=False,\n",
    "    drop_last=False,\n",
    "    collate_fn=average_emb,\n",
    ")\n",
    "\n",
    "model.load_state_dict(torch.load(\"model.pt\", map_location=device))\n",
    "\n",
    "print(testing(model, criterion, test_loader, device=device))"
   ]
  },
  {
   "cell_type": "markdown",
   "metadata": {
    "id": "ZRvzpldHSAu0"
   },
   "source": [
    "## Embeddings for unknown words (8 баллов)\n",
    "\n",
    "Пока что использовалась не вся информация из текста. Часть информации фильтровалось – если слова не было в словаре эмбеддингов, то мы просто превращали слово в нулевой вектор. Хочется использовать информацию по-максимуму. Поэтому рассмотрим другие способы обработки слов, которых нет в словаре. А именно:\n",
    "\n",
    "- Для каждого незнакомого слова будем запоминать его контекст(слова слева и справа от этого слова). Эмбеддингом нашего незнакомого слова будет сумма эмбеддингов всех слов из его контекста. (4 балла)\n",
    "- Для каждого слова текста получим его эмбеддинг из Tfidf с помощью ```TfidfVectorizer``` из [sklearn](https://scikit-learn.org/stable/modules/generated/sklearn.feature_extraction.text.TfidfVectorizer.html#sklearn.feature_extraction.text.TfidfVectorizer). Итоговым эмбеддингом для каждого слова будет сумма двух эмбеддингов: предобученного и Tfidf-ного. Для слов, которых нет в словаре предобученных эмбеддингов, результирующий эмбеддинг будет просто полученный из Tfidf. (4 балла)\n",
    "\n",
    "Реализуйте оба варианта **ниже**. Напишите, какой способ сработал лучше и ваши мысли, почему так получилось."
   ]
  },
  {
   "cell_type": "code",
   "execution_count": null,
   "metadata": {
    "id": "RxhEpKalU1UQ"
   },
   "outputs": [],
   "source": []
  }
 ],
 "metadata": {
  "accelerator": "GPU",
  "colab": {
   "collapsed_sections": [],
   "name": "[homework]embeddings.ipynb",
   "private_outputs": true,
   "provenance": []
  },
  "kernelspec": {
   "display_name": "Python 3 (ipykernel)",
   "language": "python",
   "name": "python3"
  },
  "language_info": {
   "codemirror_mode": {
    "name": "ipython",
    "version": 3
   },
   "file_extension": ".py",
   "mimetype": "text/x-python",
   "name": "python",
   "nbconvert_exporter": "python",
   "pygments_lexer": "ipython3",
   "version": "3.8.10"
  }
 },
 "nbformat": 4,
 "nbformat_minor": 4
}
